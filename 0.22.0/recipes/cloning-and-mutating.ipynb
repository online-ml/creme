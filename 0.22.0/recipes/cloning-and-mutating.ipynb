{
 "cells": [
  {
   "cell_type": "markdown",
   "metadata": {},
   "source": [
    "# Cloning and mutating"
   ]
  },
  {
   "cell_type": "markdown",
   "metadata": {},
   "source": [
    "Sometimes you might want to reset a model, or edit (what we call mutate) its attributes. This can be useful in an online environment. Indeed, if you detect a drift, then you might want to mutate a model's attributes. Or if you see that a model's performance is plummeting, then you might to reset it to its \"factory settings\".\n",
    "\n",
    "Anyway, this is not to convince you, but rather to say that a model's attributes don't have be to set in stone throughout its lifetime. In particular, if you're developping your own model, then you might want to have good tools to do this. This is what this recipe is about."
   ]
  },
  {
   "cell_type": "markdown",
   "metadata": {},
   "source": [
    "## Cloning\n",
    "\n",
    "The first thing you can do is clone a model. This creates a deep copy of the model. The resulting model is entirely independent of the original model. The clone is fresh, in the sense that it is as if it hasn't seen any data.\n",
    "\n",
    "For instance, say you have a linear regression model which you have trained on some data."
   ]
  },
  {
   "cell_type": "code",
   "execution_count": 1,
   "metadata": {
    "execution": {
     "iopub.execute_input": "2024-11-25T16:27:26.733018Z",
     "iopub.status.busy": "2024-11-25T16:27:26.732591Z",
     "iopub.status.idle": "2024-11-25T16:27:27.731209Z",
     "shell.execute_reply": "2024-11-25T16:27:27.730688Z"
    }
   },
   "outputs": [
    {
     "data": {
      "text/html": [
       "<pre style=\"white-space:pre;overflow-x:auto;line-height:normal;font-family:Menlo,'DejaVu Sans Mono',consolas,'Courier New',monospace\"></pre>\n"
      ],
      "text/plain": []
     },
     "metadata": {},
     "output_type": "display_data"
    },
    {
     "data": {
      "text/plain": [
       "\n",
       "\u001b[1m{\u001b[0m\n",
       "    \u001b[32m'ordinal_date'\u001b[0m: \u001b[1;36m20.59955380229643\u001b[0m,\n",
       "    \u001b[32m'gallup'\u001b[0m: \u001b[1;36m0.39114944304212645\u001b[0m,\n",
       "    \u001b[32m'ipsos'\u001b[0m: \u001b[1;36m0.4101918314868111\u001b[0m,\n",
       "    \u001b[32m'morning_consult'\u001b[0m: \u001b[1;36m0.12042970179504908\u001b[0m,\n",
       "    \u001b[32m'rasmussen'\u001b[0m: \u001b[1;36m0.18951231512561392\u001b[0m,\n",
       "    \u001b[32m'you_gov'\u001b[0m: \u001b[1;36m0.04991712783831687\u001b[0m\n",
       "\u001b[1m}\u001b[0m"
      ]
     },
     "execution_count": 1,
     "metadata": {},
     "output_type": "execute_result"
    }
   ],
   "source": [
    "from river import datasets, linear_model, optim, preprocessing\n",
    "\n",
    "model = (\n",
    "    preprocessing.StandardScaler() |\n",
    "    linear_model.LinearRegression(\n",
    "        optimizer=optim.SGD(3e-2)\n",
    "    )\n",
    ")\n",
    "\n",
    "for x, y in datasets.TrumpApproval():\n",
    "    model.predict_one(x)\n",
    "    model.learn_one(x, y)\n",
    "\n",
    "model[-1].weights"
   ]
  },
  {
   "cell_type": "markdown",
   "metadata": {},
   "source": [
    "For whatever reason, we may want to clone this model. This can be done with the `clone` method."
   ]
  },
  {
   "cell_type": "code",
   "execution_count": 2,
   "metadata": {
    "execution": {
     "iopub.execute_input": "2024-11-25T16:27:27.733305Z",
     "iopub.status.busy": "2024-11-25T16:27:27.732831Z",
     "iopub.status.idle": "2024-11-25T16:27:27.739050Z",
     "shell.execute_reply": "2024-11-25T16:27:27.738485Z"
    }
   },
   "outputs": [
    {
     "data": {
      "text/html": [
       "<pre style=\"white-space:pre;overflow-x:auto;line-height:normal;font-family:Menlo,'DejaVu Sans Mono',consolas,'Courier New',monospace\"></pre>\n"
      ],
      "text/plain": []
     },
     "metadata": {},
     "output_type": "display_data"
    },
    {
     "data": {
      "text/plain": [
       "\u001b[1m{\u001b[0m\u001b[1m}\u001b[0m"
      ]
     },
     "execution_count": 2,
     "metadata": {},
     "output_type": "execute_result"
    }
   ],
   "source": [
    "clone = model.clone()\n",
    "clone[-1].weights"
   ]
  },
  {
   "cell_type": "markdown",
   "metadata": {},
   "source": [
    "As we can see, there are no weights because the clone is fresh copy that has not seen any data. However, the learning rate we specified is preserved."
   ]
  },
  {
   "cell_type": "code",
   "execution_count": 3,
   "metadata": {
    "execution": {
     "iopub.execute_input": "2024-11-25T16:27:27.740897Z",
     "iopub.status.busy": "2024-11-25T16:27:27.740568Z",
     "iopub.status.idle": "2024-11-25T16:27:27.745710Z",
     "shell.execute_reply": "2024-11-25T16:27:27.745156Z"
    }
   },
   "outputs": [
    {
     "data": {
      "text/html": [
       "<pre style=\"white-space:pre;overflow-x:auto;line-height:normal;font-family:Menlo,'DejaVu Sans Mono',consolas,'Courier New',monospace\"></pre>\n"
      ],
      "text/plain": []
     },
     "metadata": {},
     "output_type": "display_data"
    },
    {
     "data": {
      "text/plain": [
       "\u001b[1;36m0.03\u001b[0m"
      ]
     },
     "execution_count": 3,
     "metadata": {},
     "output_type": "execute_result"
    }
   ],
   "source": [
    "clone[-1].optimizer.learning_rate"
   ]
  },
  {
   "cell_type": "markdown",
   "metadata": {},
   "source": [
    "You may also specify parameters you want changed. For instance, let's say we want to clone the model, but we want to change the optimizer:"
   ]
  },
  {
   "cell_type": "code",
   "execution_count": 4,
   "metadata": {
    "execution": {
     "iopub.execute_input": "2024-11-25T16:27:27.747608Z",
     "iopub.status.busy": "2024-11-25T16:27:27.747274Z",
     "iopub.status.idle": "2024-11-25T16:27:27.753821Z",
     "shell.execute_reply": "2024-11-25T16:27:27.753278Z"
    }
   },
   "outputs": [
    {
     "data": {
      "text/html": [
       "<pre style=\"white-space:pre;overflow-x:auto;line-height:normal;font-family:Menlo,'DejaVu Sans Mono',consolas,'Courier New',monospace\"></pre>\n"
      ],
      "text/plain": []
     },
     "metadata": {},
     "output_type": "display_data"
    },
    {
     "data": {
      "text/plain": [
       "\u001b[1;35mAdam\u001b[0m\u001b[1m(\u001b[0m\u001b[1m{\u001b[0m\u001b[32m'lr'\u001b[0m: \u001b[1;35mConstant\u001b[0m\u001b[1m(\u001b[0m\u001b[1m{\u001b[0m\u001b[32m'learning_rate'\u001b[0m: \u001b[1;36m0.1\u001b[0m\u001b[1m}\u001b[0m\u001b[1m)\u001b[0m, \u001b[32m'n_iterations'\u001b[0m: \u001b[1;36m0\u001b[0m, \u001b[32m'beta_1'\u001b[0m: \u001b[1;36m0.9\u001b[0m, \u001b[32m'beta_2'\u001b[0m: \u001b[1;36m0.999\u001b[0m, \u001b[32m'eps'\u001b[0m: \u001b[1;36m1e-08\u001b[0m, \u001b[32m'm'\u001b[0m: \u001b[3;35mNone\u001b[0m, \u001b[32m'v'\u001b[0m: \u001b[3;35mNone\u001b[0m\u001b[1m}\u001b[0m\u001b[1m)\u001b[0m"
      ]
     },
     "execution_count": 4,
     "metadata": {},
     "output_type": "execute_result"
    }
   ],
   "source": [
    "clone = model.clone({\"LinearRegression\": {\"optimizer\": optim.Adam()}})\n",
    "clone[-1].optimizer"
   ]
  },
  {
   "cell_type": "markdown",
   "metadata": {},
   "source": [
    "The first key indicates that we want to specify a different parameter for the `LinearRegression` part of the pipeline. Then the second key accesses the linear regression's `optimizer` parameter.\n",
    "\n",
    "Finally, note that the `clone` method isn't reserved to models. Indeed, every object in River has it. That's because they all inherit from the `Base` class in the `base` module."
   ]
  },
  {
   "cell_type": "markdown",
   "metadata": {},
   "source": [
    "## Mutating attributes\n",
    "\n",
    "Cloning a model can be useful, but the fact that it essentially resets the model may not be desired. Instead, you might want to change a attribute while preserving the model's state. For example, let's change the `l2` attribute, and the optimizer's `lr` attribute."
   ]
  },
  {
   "cell_type": "code",
   "execution_count": 5,
   "metadata": {
    "execution": {
     "iopub.execute_input": "2024-11-25T16:27:27.755794Z",
     "iopub.status.busy": "2024-11-25T16:27:27.755458Z",
     "iopub.status.idle": "2024-11-25T16:27:27.758924Z",
     "shell.execute_reply": "2024-11-25T16:27:27.758438Z"
    }
   },
   "outputs": [
    {
     "name": "stdout",
     "output_type": "stream",
     "text": [
      "Pipeline (\n",
      "  StandardScaler (\n",
      "    with_std=True\n",
      "  ),\n",
      "  LinearRegression (\n",
      "    optimizer=SGD (\n",
      "      lr=Constant (\n",
      "        learning_rate=0.025\n",
      "      )\n",
      "    )\n",
      "    loss=Squared ()\n",
      "    l2=0.1\n",
      "    l1=0.\n",
      "    intercept_init=0.\n",
      "    intercept_lr=Constant (\n",
      "      learning_rate=0.01\n",
      "    )\n",
      "    clip_gradient=1e+12\n",
      "    initializer=Zeros ()\n",
      "  )\n",
      ")\n"
     ]
    }
   ],
   "source": [
    "model.mutate({\n",
    "    \"LinearRegression\": {\n",
    "        \"l2\": 0.1,\n",
    "        \"optimizer\": {\n",
    "            \"lr\": optim.schedulers.Constant(25e-3)\n",
    "        }\n",
    "    }\n",
    "})\n",
    "\n",
    "print(repr(model))"
   ]
  },
  {
   "cell_type": "markdown",
   "metadata": {},
   "source": [
    "We can see the attributes we specified have changed. However, the model's state is preserved:"
   ]
  },
  {
   "cell_type": "code",
   "execution_count": 6,
   "metadata": {
    "execution": {
     "iopub.execute_input": "2024-11-25T16:27:27.760735Z",
     "iopub.status.busy": "2024-11-25T16:27:27.760383Z",
     "iopub.status.idle": "2024-11-25T16:27:27.765667Z",
     "shell.execute_reply": "2024-11-25T16:27:27.765220Z"
    }
   },
   "outputs": [
    {
     "data": {
      "text/html": [
       "<pre style=\"white-space:pre;overflow-x:auto;line-height:normal;font-family:Menlo,'DejaVu Sans Mono',consolas,'Courier New',monospace\"></pre>\n"
      ],
      "text/plain": []
     },
     "metadata": {},
     "output_type": "display_data"
    },
    {
     "data": {
      "text/plain": [
       "\n",
       "\u001b[1m{\u001b[0m\n",
       "    \u001b[32m'ordinal_date'\u001b[0m: \u001b[1;36m20.59955380229643\u001b[0m,\n",
       "    \u001b[32m'gallup'\u001b[0m: \u001b[1;36m0.39114944304212645\u001b[0m,\n",
       "    \u001b[32m'ipsos'\u001b[0m: \u001b[1;36m0.4101918314868111\u001b[0m,\n",
       "    \u001b[32m'morning_consult'\u001b[0m: \u001b[1;36m0.12042970179504908\u001b[0m,\n",
       "    \u001b[32m'rasmussen'\u001b[0m: \u001b[1;36m0.18951231512561392\u001b[0m,\n",
       "    \u001b[32m'you_gov'\u001b[0m: \u001b[1;36m0.04991712783831687\u001b[0m\n",
       "\u001b[1m}\u001b[0m"
      ]
     },
     "execution_count": 6,
     "metadata": {},
     "output_type": "execute_result"
    }
   ],
   "source": [
    "model[-1].weights"
   ]
  },
  {
   "cell_type": "markdown",
   "metadata": {},
   "source": [
    "In other words, the `mutate` method does not create a deep copy of the model. It just sets attributes. At this point you may ask:\n",
    "\n",
    "> *Why can't I just change the attribute directly, without calling `mutate`?*\n",
    "\n",
    "The answer is that you're free to do proceed as such, but it's not the way we recommend. The `mutate` method is safer, in that it prevents you from mutating attributes you shouldn't be touching. We call these *immutable attributes*. For instance, there's no reason you should be modifying the weights."
   ]
  },
  {
   "cell_type": "code",
   "execution_count": 7,
   "metadata": {
    "execution": {
     "iopub.execute_input": "2024-11-25T16:27:27.767477Z",
     "iopub.status.busy": "2024-11-25T16:27:27.767127Z",
     "iopub.status.idle": "2024-11-25T16:27:27.770104Z",
     "shell.execute_reply": "2024-11-25T16:27:27.769669Z"
    }
   },
   "outputs": [
    {
     "name": "stdout",
     "output_type": "stream",
     "text": [
      "'weights' is not a mutable attribute of LinearRegression\n"
     ]
    }
   ],
   "source": [
    "try:\n",
    "    model.mutate({\n",
    "        \"LinearRegression\": {\n",
    "            \"weights\": \"this makes no sense\"\n",
    "        }\n",
    "    })\n",
    "except ValueError as e:\n",
    "    print(e)"
   ]
  },
  {
   "cell_type": "markdown",
   "metadata": {},
   "source": [
    "All attributes are immutable by default. Under the hood, each model can specify a set of mutable attributes via the `_mutable_attributes` property. In theory this can be overriden. But the general idea is that we will progressively add more and more mutable attributes with time.\n",
    "\n",
    "And that concludes this recipe. Arguably, this recipe caters to advanced users, and in particular users who are developping their own models. And yet, one could also argue that modifying parameters of a model on-the-fly is a great tool to have at your disposal when you're doing online machine learning."
   ]
  }
 ],
 "metadata": {
  "interpreter": {
   "hash": "e6e87bad9c8c768904c061eafcb4f6739260ff8bb57f302c215ab258ded773dc"
  },
  "kernelspec": {
   "display_name": "Python 3.9.12 ('river')",
   "language": "python",
   "name": "python3"
  },
  "language_info": {
   "codemirror_mode": {
    "name": "ipython",
    "version": 3
   },
   "file_extension": ".py",
   "mimetype": "text/x-python",
   "name": "python",
   "nbconvert_exporter": "python",
   "pygments_lexer": "ipython3",
   "version": "3.12.7"
  }
 },
 "nbformat": 4,
 "nbformat_minor": 2
}
