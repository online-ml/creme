{
 "cells": [
  {
   "attachments": {},
   "cell_type": "markdown",
   "metadata": {},
   "source": [
    "# Content personalization"
   ]
  },
  {
   "attachments": {},
   "cell_type": "markdown",
   "metadata": {},
   "source": [
    "## Without context"
   ]
  },
  {
   "attachments": {},
   "cell_type": "markdown",
   "metadata": {},
   "source": [
    "This example takes inspiration from Vowpal Wabbit's [excellent tutorial](https://vowpalwabbit.org/tutorials/cb_simulation.html).\n",
    "\n",
    "Content personalization is about taking into account user preferences. It's a special case of recommender systems. Ideally, side-information should be taken into account in addition to the user. But we'll start with something simpler. We'll assume that each user has stable preferences that are independent of the context. We capture this by implementing a \"reward\" function."
   ]
  },
  {
   "cell_type": "code",
   "execution_count": 1,
   "metadata": {
    "execution": {
     "iopub.execute_input": "2024-11-25T22:47:39.555374Z",
     "iopub.status.busy": "2024-11-25T22:47:39.555186Z",
     "iopub.status.idle": "2024-11-25T22:47:39.565836Z",
     "shell.execute_reply": "2024-11-25T22:47:39.565287Z"
    }
   },
   "outputs": [
    {
     "data": {
      "text/html": [
       "<pre style=\"white-space:pre;overflow-x:auto;line-height:normal;font-family:Menlo,'DejaVu Sans Mono',consolas,'Courier New',monospace\"></pre>\n"
      ],
      "text/plain": []
     },
     "metadata": {},
     "output_type": "display_data"
    },
    {
     "data": {
      "text/plain": [
       "\u001b[1;36m1\u001b[0m"
      ]
     },
     "execution_count": 1,
     "metadata": {},
     "output_type": "execute_result"
    }
   ],
   "source": [
    "def get_reward(user, item, context):\n",
    "\n",
    "    time_of_day = context['time_of_day']\n",
    "\n",
    "    USER_LIKED_ARTICLE = 1\n",
    "    USER_DISLIKED_ARTICLE = 0\n",
    "\n",
    "    if user == 'Tom':\n",
    "        if time_of_day == 'morning' and item == 'politics':\n",
    "            return USER_LIKED_ARTICLE\n",
    "        elif time_of_day == 'afternoon' and item == 'music':\n",
    "            return USER_LIKED_ARTICLE\n",
    "        else:\n",
    "            return USER_DISLIKED_ARTICLE\n",
    "    elif user == 'Anna':\n",
    "        if time_of_day == 'morning' and item == 'sports':\n",
    "            return USER_LIKED_ARTICLE\n",
    "        elif time_of_day == 'afternoon' and item == 'politics':\n",
    "            return USER_LIKED_ARTICLE\n",
    "        else:\n",
    "            return USER_DISLIKED_ARTICLE\n",
    "\n",
    "get_reward('Tom', 'politics', {'time_of_day': 'morning'})"
   ]
  },
  {
   "attachments": {},
   "cell_type": "markdown",
   "metadata": {},
   "source": [
    "Measuring the performance of a recommendation is not straightforward, mostly because of the interactive aspect of recommender systems. In a real situation, recommendations are presented to a user, and the user gives feedback indicating whether they like what they have been recommended or not. This feedback loop can't be captured entirely by a historical dataset. Some kind of simulator is required to generate recommendations and capture feedback. We already have a reward function. Now let's implement a simulation function."
   ]
  },
  {
   "cell_type": "code",
   "execution_count": 2,
   "metadata": {
    "execution": {
     "iopub.execute_input": "2024-11-25T22:47:39.567643Z",
     "iopub.status.busy": "2024-11-25T22:47:39.567329Z",
     "iopub.status.idle": "2024-11-25T22:47:39.990878Z",
     "shell.execute_reply": "2024-11-25T22:47:39.990221Z"
    }
   },
   "outputs": [],
   "source": [
    "import random\n",
    "import matplotlib.pyplot as plt\n",
    "\n",
    "def plot_ctr(ctr):\n",
    "    plt.plot(range(1, len(ctr) + 1), ctr)\n",
    "    plt.xlabel('n_iterations', fontsize=14)\n",
    "    plt.ylabel('CTR', fontsize=14)\n",
    "    plt.ylim([0, 1])\n",
    "    plt.title(f'final CTR: {ctr[-1]:.2%}', fontsize=14)\n",
    "    plt.grid()\n",
    "\n",
    "users = ['Tom', 'Anna']\n",
    "times_of_day = ['morning', 'afternoon']\n",
    "items = {'politics', 'sports', 'music', 'food', 'finance', 'health', 'camping'}\n",
    "\n",
    "def simulate(n, reward_func, model, seed):\n",
    "    \n",
    "    rng = random.Random(seed)\n",
    "    n_clicks = 0\n",
    "    ctr = []  # click-through rate along time\n",
    "    \n",
    "    for i in range(n):\n",
    "        \n",
    "        # Generate a context at random\n",
    "        user = rng.choice(users)\n",
    "        context = {\n",
    "            'time_of_day': rng.choice(times_of_day)\n",
    "        }\n",
    "    \n",
    "        # Make a single recommendation\n",
    "        item = model.rank(user, items=items, x=context)[0]\n",
    "        \n",
    "        # Measure the reward\n",
    "        clicked = reward_func(user, item, context)\n",
    "        n_clicks += clicked\n",
    "        ctr.append(n_clicks / (i + 1))\n",
    "        \n",
    "        # Update the model\n",
    "        model.learn_one(user, item, y=clicked, x=context)\n",
    "        \n",
    "    plot_ctr(ctr)"
   ]
  },
  {
   "attachments": {},
   "cell_type": "markdown",
   "metadata": {},
   "source": [
    "This simulation function does quite a few things. It can be seen as a simple reinforcement learning simulation. It samples a user, and then ask the model to provide a single recommendation. The user then gives as to whether they liked the recommendation or not. Crucially, the user doesn't tell us what item they would have liked. We could model this as a multi-class classification problem if that were the case.\n",
    "\n",
    "The strategy parameter determines the mechanism used to generate the recommendations. The `'best'` strategy means that the items are each scored by the model, and are then ranked from the most preferred to the least preferred. Here the most preferred item is the one which gets recommended. But you could imagine all sorts of alternative ways to proceed.\n",
    "\n",
    "We can first evaluate a recommended which acts completely at random. It assigns a random preference to each item, regardless of the user."
   ]
  },
  {
   "cell_type": "code",
   "execution_count": 3,
   "metadata": {
    "execution": {
     "iopub.execute_input": "2024-11-25T22:47:39.993158Z",
     "iopub.status.busy": "2024-11-25T22:47:39.992900Z",
     "iopub.status.idle": "2024-11-25T22:47:40.335809Z",
     "shell.execute_reply": "2024-11-25T22:47:40.335237Z"
    }
   },
   "outputs": [
    {
     "data": {
      "text/html": [
       "<pre style=\"white-space:pre;overflow-x:auto;line-height:normal;font-family:Menlo,'DejaVu Sans Mono',consolas,'Courier New',monospace\"></pre>\n"
      ],
      "text/plain": []
     },
     "metadata": {},
     "output_type": "display_data"
    },
    {
     "data": {
      "image/png": "[encoded data removed]",
      "text/plain": [
       "\u001b[1m<\u001b[0m\u001b[1;95mFigure\u001b[0m\u001b[39m size 64\u001b[0m\u001b[1;36m0x480\u001b[0m\u001b[39m with \u001b[0m\u001b[1;36m1\u001b[0m\u001b[39m Axes\u001b[0m\u001b[1m>\u001b[0m"
      ]
     },
     "metadata": {},
     "output_type": "display_data"
    }
   ],
   "source": [
    "from river import reco\n",
    "\n",
    "model = reco.RandomNormal(seed=10)\n",
    "simulate(5_000, get_reward, model, seed=42)"
   ]
  },
  {
   "attachments": {},
   "cell_type": "markdown",
   "metadata": {},
   "source": [
    "We can see that the click-through rate (CTR) oscillates around 28.74%. In fact, this model is expected to be correct `100 * (2 / 7)% = 28.57%` of the time. Indeed, each user likes two items, and there are seven items in total.\n",
    "\n",
    "Let's now use the `Baseline` recommended. This one models each preference as the following sum:\n",
    "\n",
    "$$preference = \\bar{y} + b_{u} + b_{i}$$\n",
    "\n",
    "where\n",
    "\n",
    "- $\\bar{y}$ is the average CTR overall\n",
    "- $b_{u}$ is the average CTR per user minus $\\bar{y}$ -- it's therefore called a *bias*\n",
    "- $b_{i}$ is the average CTR per item minus $\\bar{y}$\n",
    "\n",
    "This model is considered to be a baseline because it doesn't actually learn what items are preferred by each user. Instead it models each user and item separately. We shouldn't expect it to be a strong model. It should however do better than the random model used above."
   ]
  },
  {
   "cell_type": "code",
   "execution_count": 4,
   "metadata": {
    "execution": {
     "iopub.execute_input": "2024-11-25T22:47:40.337785Z",
     "iopub.status.busy": "2024-11-25T22:47:40.337539Z",
     "iopub.status.idle": "2024-11-25T22:47:40.476296Z",
     "shell.execute_reply": "2024-11-25T22:47:40.475848Z"
    }
   },
   "outputs": [
    {
     "data": {
      "text/html": [
       "<pre style=\"white-space:pre;overflow-x:auto;line-height:normal;font-family:Menlo,'DejaVu Sans Mono',consolas,'Courier New',monospace\"></pre>\n"
      ],
      "text/plain": []
     },
     "metadata": {},
     "output_type": "display_data"
    },
    {
     "data": {
      "image/png": "[encoded data removed]",
      "text/plain": [
       "\u001b[1m<\u001b[0m\u001b[1;95mFigure\u001b[0m\u001b[39m size 64\u001b[0m\u001b[1;36m0x480\u001b[0m\u001b[39m with \u001b[0m\u001b[1;36m1\u001b[0m\u001b[39m Axes\u001b[0m\u001b[1m>\u001b[0m"
      ]
     },
     "metadata": {},
     "output_type": "display_data"
    }
   ],
   "source": [
    "model = reco.Baseline(seed=10)\n",
    "simulate(5_000, get_reward, model, seed=42)"
   ]
  },
  {
   "attachments": {},
   "cell_type": "markdown",
   "metadata": {},
   "source": [
    "This baseline model seems perfect, which is surprising. The reason why it works so well is because both users have in common that they both like politics. The model therefore learns that the `'politics'` is a good item to recommend."
   ]
  },
  {
   "cell_type": "code",
   "execution_count": 5,
   "metadata": {
    "execution": {
     "iopub.execute_input": "2024-11-25T22:47:40.478223Z",
     "iopub.status.busy": "2024-11-25T22:47:40.478027Z",
     "iopub.status.idle": "2024-11-25T22:47:40.483700Z",
     "shell.execute_reply": "2024-11-25T22:47:40.483252Z"
    }
   },
   "outputs": [
    {
     "data": {
      "text/html": [
       "<pre style=\"white-space:pre;overflow-x:auto;line-height:normal;font-family:Menlo,'DejaVu Sans Mono',consolas,'Courier New',monospace\"></pre>\n"
      ],
      "text/plain": []
     },
     "metadata": {},
     "output_type": "display_data"
    },
    {
     "data": {
      "text/plain": [
       "\n",
       "\u001b[1;35mdefaultdict\u001b[0m\u001b[1m(\u001b[0mZeros \u001b[1m(\u001b[0m\u001b[1m)\u001b[0m, \u001b[1m{\u001b[0m\n",
       "    \u001b[32m'finance'\u001b[0m: \u001b[1;36m0.0\u001b[0m,\n",
       "    \u001b[32m'sports'\u001b[0m: \u001b[1;36m0.0\u001b[0m,\n",
       "    \u001b[32m'music'\u001b[0m: \u001b[1;36m0.0\u001b[0m,\n",
       "    \u001b[32m'health'\u001b[0m: \u001b[1;36m0.0\u001b[0m,\n",
       "    \u001b[32m'food'\u001b[0m: \u001b[1;36m0.0\u001b[0m,\n",
       "    \u001b[32m'camping'\u001b[0m: \u001b[1;36m0.0\u001b[0m,\n",
       "    \u001b[32m'politics'\u001b[0m: \u001b[1;36m0.0\u001b[0m\n",
       "\u001b[1m}\u001b[0m\u001b[1m)\u001b[0m"
      ]
     },
     "execution_count": 5,
     "metadata": {},
     "output_type": "execute_result"
    }
   ],
   "source": [
    "model.i_biases"
   ]
  },
  {
   "attachments": {},
   "cell_type": "markdown",
   "metadata": {},
   "source": [
    "The model is not as performant if we use a reward function where both users have different preferences."
   ]
  },
  {
   "cell_type": "code",
   "execution_count": 6,
   "metadata": {
    "execution": {
     "iopub.execute_input": "2024-11-25T22:47:40.485555Z",
     "iopub.status.busy": "2024-11-25T22:47:40.485200Z",
     "iopub.status.idle": "2024-11-25T22:47:40.621078Z",
     "shell.execute_reply": "2024-11-25T22:47:40.620561Z"
    }
   },
   "outputs": [
    {
     "data": {
      "text/html": [
       "<pre style=\"white-space:pre;overflow-x:auto;line-height:normal;font-family:Menlo,'DejaVu Sans Mono',consolas,'Courier New',monospace\"></pre>\n"
      ],
      "text/plain": []
     },
     "metadata": {},
     "output_type": "display_data"
    },
    {
     "data": {
      "image/png": "[encoded data removed]",
      "text/plain": [
       "\u001b[1m<\u001b[0m\u001b[1;95mFigure\u001b[0m\u001b[39m size 64\u001b[0m\u001b[1;36m0x480\u001b[0m\u001b[39m with \u001b[0m\u001b[1;36m1\u001b[0m\u001b[39m Axes\u001b[0m\u001b[1m>\u001b[0m"
      ]
     },
     "metadata": {},
     "output_type": "display_data"
    }
   ],
   "source": [
    "simulate(\n",
    "    5_000,\n",
    "    reward_func=lambda user, item, context: (\n",
    "        item in {'music', 'politics'} if user == \"Tom\" else\n",
    "        item in {'food', 'sports'}\n",
    "    ),\n",
    "    model=model,\n",
    "    seed=42\n",
    ")"
   ]
  },
  {
   "attachments": {},
   "cell_type": "markdown",
   "metadata": {},
   "source": [
    "A good recommender model should at the very least understand what kind of items each user prefers. One of the simplest and yet performant way to do this is Simon Funk's SGD method he developped for the Netflix challenge and wrote about [here](https://sifter.org/simon/journal/20061211.html). It models each user and each item as latent vectors. The dot product of these two vectors is the expected preference of the user for the item."
   ]
  },
  {
   "cell_type": "code",
   "execution_count": 7,
   "metadata": {
    "execution": {
     "iopub.execute_input": "2024-11-25T22:47:40.622914Z",
     "iopub.status.busy": "2024-11-25T22:47:40.622557Z",
     "iopub.status.idle": "2024-11-25T22:47:40.847140Z",
     "shell.execute_reply": "2024-11-25T22:47:40.846658Z"
    }
   },
   "outputs": [
    {
     "data": {
      "text/html": [
       "<pre style=\"white-space:pre;overflow-x:auto;line-height:normal;font-family:Menlo,'DejaVu Sans Mono',consolas,'Courier New',monospace\"></pre>\n"
      ],
      "text/plain": []
     },
     "metadata": {},
     "output_type": "display_data"
    },
    {
     "data": {
      "image/png": "[encoded data removed]",
      "text/plain": [
       "\u001b[1m<\u001b[0m\u001b[1;95mFigure\u001b[0m\u001b[39m size 64\u001b[0m\u001b[1;36m0x480\u001b[0m\u001b[39m with \u001b[0m\u001b[1;36m1\u001b[0m\u001b[39m Axes\u001b[0m\u001b[1m>\u001b[0m"
      ]
     },
     "metadata": {},
     "output_type": "display_data"
    }
   ],
   "source": [
    "model = reco.FunkMF(seed=10)\n",
    "simulate(5_000, get_reward, model, seed=42)"
   ]
  },
  {
   "attachments": {},
   "cell_type": "markdown",
   "metadata": {},
   "source": [
    "We can see that this model learns what items each user enjoys very well. Of course, there are some caveats. In our simulation, we ask the model to recommend the item most likely to be preferred for each user. Indeed, we rank all the items and pick the item at the top of the list. We do this many times for only two users.\n",
    "\n",
    "This is of course not realistic. Users will get fed up with recommendations if they're always shown the same item. It's important to include diversity into recommendations, and to let the model explore other options instead of always focusing on the item with the highest score. This is where evaluating recommender systems gets tricky: the reward function itself is difficult to model.\n",
    "\n",
    "We will keep ignoring these caveats in this notebook. Instead we will focus on a different concern: making recommendations when context is involved."
   ]
  },
  {
   "attachments": {},
   "cell_type": "markdown",
   "metadata": {},
   "source": [
    "## With context"
   ]
  },
  {
   "attachments": {},
   "cell_type": "markdown",
   "metadata": {},
   "source": [
    "We'll add some context by making it so that user preferences change depending on the time the day. Very simply, preferences might change from morning to afternoon. This is captured by the following reward function."
   ]
  },
  {
   "cell_type": "code",
   "execution_count": 8,
   "metadata": {
    "execution": {
     "iopub.execute_input": "2024-11-25T22:47:40.849289Z",
     "iopub.status.busy": "2024-11-25T22:47:40.848812Z",
     "iopub.status.idle": "2024-11-25T22:47:40.852625Z",
     "shell.execute_reply": "2024-11-25T22:47:40.852020Z"
    }
   },
   "outputs": [],
   "source": [
    "times_of_day = ['morning', 'afternoon']\n",
    "\n",
    "def get_reward(user, item, context):\n",
    "    if user == 'Tom':\n",
    "        if context['time_of_day'] == 'morning':\n",
    "            return item == 'politics'\n",
    "        if context['time_of_day'] == 'afternoon':\n",
    "            return item == 'music'\n",
    "    if user == 'Anna':\n",
    "        if context['time_of_day'] == 'morning':\n",
    "            return item == 'sports'\n",
    "        if context['time_of_day'] == 'afternoon':\n",
    "            return item == 'politics'"
   ]
  },
  {
   "attachments": {},
   "cell_type": "markdown",
   "metadata": {},
   "source": [
    "We have to update our simulation function to generate a random context at each step. We also want our model to use it for recommending items as well as learning."
   ]
  },
  {
   "cell_type": "code",
   "execution_count": 9,
   "metadata": {
    "execution": {
     "iopub.execute_input": "2024-11-25T22:47:40.854519Z",
     "iopub.status.busy": "2024-11-25T22:47:40.854207Z",
     "iopub.status.idle": "2024-11-25T22:47:40.857915Z",
     "shell.execute_reply": "2024-11-25T22:47:40.857332Z"
    }
   },
   "outputs": [],
   "source": [
    "def simulate(n, reward_func, model, seed):\n",
    "    \n",
    "    rng = random.Random(seed)\n",
    "    n_clicks = 0\n",
    "    ctr = []\n",
    "    \n",
    "    for i in range(n):\n",
    "        \n",
    "        user = rng.choice(users)\n",
    "        \n",
    "        # New: pass a context\n",
    "        context = {'time_of_day': rng.choice(times_of_day)}\n",
    "        item = model.rank(user, items, context)[0]\n",
    "        \n",
    "        clicked = reward_func(user, item, context)\n",
    "        n_clicks += clicked\n",
    "        ctr.append(n_clicks / (i + 1))\n",
    "        \n",
    "        # New: pass a context\n",
    "        model.learn_one(user, item, clicked, context)\n",
    "        \n",
    "    plot_ctr(ctr)"
   ]
  },
  {
   "attachments": {},
   "cell_type": "markdown",
   "metadata": {},
   "source": [
    "Not all models are capable of taking into account context. For instance, the `FunkMF` model only models users and items. It completely ignores the context, even when we provide one. All recommender models inherit from the base `Recommender` class. They also have a property which indicates whether or not they are able to handle context:"
   ]
  },
  {
   "cell_type": "code",
   "execution_count": 10,
   "metadata": {
    "execution": {
     "iopub.execute_input": "2024-11-25T22:47:40.859843Z",
     "iopub.status.busy": "2024-11-25T22:47:40.859568Z",
     "iopub.status.idle": "2024-11-25T22:47:40.864851Z",
     "shell.execute_reply": "2024-11-25T22:47:40.864272Z"
    }
   },
   "outputs": [
    {
     "data": {
      "text/html": [
       "<pre style=\"white-space:pre;overflow-x:auto;line-height:normal;font-family:Menlo,'DejaVu Sans Mono',consolas,'Courier New',monospace\"></pre>\n"
      ],
      "text/plain": []
     },
     "metadata": {},
     "output_type": "display_data"
    },
    {
     "data": {
      "text/plain": [
       "\u001b[3;91mFalse\u001b[0m"
      ]
     },
     "execution_count": 10,
     "metadata": {},
     "output_type": "execute_result"
    }
   ],
   "source": [
    "model = reco.FunkMF(seed=10)\n",
    "model.is_contextual"
   ]
  },
  {
   "attachments": {},
   "cell_type": "markdown",
   "metadata": {},
   "source": [
    "Let's see well it performs."
   ]
  },
  {
   "cell_type": "code",
   "execution_count": 11,
   "metadata": {
    "execution": {
     "iopub.execute_input": "2024-11-25T22:47:40.866860Z",
     "iopub.status.busy": "2024-11-25T22:47:40.866407Z",
     "iopub.status.idle": "2024-11-25T22:47:41.088733Z",
     "shell.execute_reply": "2024-11-25T22:47:41.088200Z"
    }
   },
   "outputs": [
    {
     "data": {
      "text/html": [
       "<pre style=\"white-space:pre;overflow-x:auto;line-height:normal;font-family:Menlo,'DejaVu Sans Mono',consolas,'Courier New',monospace\"></pre>\n"
      ],
      "text/plain": []
     },
     "metadata": {},
     "output_type": "display_data"
    },
    {
     "data": {
      "image/png": "[encoded data removed]",
      "text/plain": [
       "\u001b[1m<\u001b[0m\u001b[1;95mFigure\u001b[0m\u001b[39m size 64\u001b[0m\u001b[1;36m0x480\u001b[0m\u001b[39m with \u001b[0m\u001b[1;36m1\u001b[0m\u001b[39m Axes\u001b[0m\u001b[1m>\u001b[0m"
      ]
     },
     "metadata": {},
     "output_type": "display_data"
    }
   ],
   "source": [
    "simulate(5_000, get_reward, model, seed=42)"
   ]
  },
  {
   "attachments": {},
   "cell_type": "markdown",
   "metadata": {},
   "source": [
    "The performance has roughly been divided by half. This is most likely because there are now two times of day, and if the model has learnt preferences for one time of the day, then it's expected to be wrong half of the time.\n",
    "\n",
    "Before delving into recsys models that can handle context, a simple hack is to notice that we can append the time of day to the user. This effectively results in new users which our model can distinguish between. We could apply this trick during the simulation, but we can also override the behavior of the `learn_one` and `rank` methods of our model."
   ]
  },
  {
   "cell_type": "code",
   "execution_count": 12,
   "metadata": {
    "execution": {
     "iopub.execute_input": "2024-11-25T22:47:41.090640Z",
     "iopub.status.busy": "2024-11-25T22:47:41.090435Z",
     "iopub.status.idle": "2024-11-25T22:47:41.324394Z",
     "shell.execute_reply": "2024-11-25T22:47:41.323869Z"
    }
   },
   "outputs": [
    {
     "data": {
      "text/html": [
       "<pre style=\"white-space:pre;overflow-x:auto;line-height:normal;font-family:Menlo,'DejaVu Sans Mono',consolas,'Courier New',monospace\"></pre>\n"
      ],
      "text/plain": []
     },
     "metadata": {},
     "output_type": "display_data"
    },
    {
     "data": {
      "image/png": "[encoded data removed]",
      "text/plain": [
       "\u001b[1m<\u001b[0m\u001b[1;95mFigure\u001b[0m\u001b[39m size 64\u001b[0m\u001b[1;36m0x480\u001b[0m\u001b[39m with \u001b[0m\u001b[1;36m1\u001b[0m\u001b[39m Axes\u001b[0m\u001b[1m>\u001b[0m"
      ]
     },
     "metadata": {},
     "output_type": "display_data"
    }
   ],
   "source": [
    "class FunkMFWithHack(reco.FunkMF):\n",
    "\n",
    "    def learn_one(self, user, item, reward, context):\n",
    "        user = f\"{user}@{context['time_of_day']}\"\n",
    "        return super().learn_one(user, item, reward, context)\n",
    "\n",
    "    def rank(self, user, items, context):\n",
    "        user = f\"{user}@{context['time_of_day']}\"\n",
    "        return super().rank(user, items, context)\n",
    "\n",
    "model = FunkMFWithHack(seed=29)\n",
    "simulate(5_000, get_reward, model, seed=42)"
   ]
  },
  {
   "attachments": {},
   "cell_type": "markdown",
   "metadata": {},
   "source": [
    "We can verify that the model has learnt the correct preferences by looking at the expected preference for each `(user, item)` pair."
   ]
  },
  {
   "cell_type": "code",
   "execution_count": 13,
   "metadata": {
    "execution": {
     "iopub.execute_input": "2024-11-25T22:47:41.326263Z",
     "iopub.status.busy": "2024-11-25T22:47:41.326069Z",
     "iopub.status.idle": "2024-11-25T22:47:41.574549Z",
     "shell.execute_reply": "2024-11-25T22:47:41.573941Z"
    }
   },
   "outputs": [
    {
     "data": {
      "text/html": [
       "<pre style=\"white-space:pre;overflow-x:auto;line-height:normal;font-family:Menlo,'DejaVu Sans Mono',consolas,'Courier New',monospace\"></pre>\n"
      ],
      "text/plain": []
     },
     "metadata": {},
     "output_type": "display_data"
    },
    {
     "data": {
      "text/html": [
       "<style type=\"text/css\">\n",
       "#T_951cd_row0_col1, #T_951cd_row1_col6, #T_951cd_row2_col4, #T_951cd_row3_col3 {\n",
       "  background-color: lightgreen;\n",
       "}\n",
       "</style>\n",
       "<table id=\"T_951cd\">\n",
       "  <thead>\n",
       "    <tr>\n",
       "      <th class=\"blank level0\" >&nbsp;</th>\n",
       "      <th id=\"T_951cd_level0_col0\" class=\"col_heading level0 col0\" colspan=\"7\">preference</th>\n",
       "    </tr>\n",
       "    <tr>\n",
       "      <th class=\"index_name level1\" >item</th>\n",
       "      <th id=\"T_951cd_level1_col0\" class=\"col_heading level1 col0\" >camping</th>\n",
       "      <th id=\"T_951cd_level1_col1\" class=\"col_heading level1 col1\" >finance</th>\n",
       "      <th id=\"T_951cd_level1_col2\" class=\"col_heading level1 col2\" >food</th>\n",
       "      <th id=\"T_951cd_level1_col3\" class=\"col_heading level1 col3\" >health</th>\n",
       "      <th id=\"T_951cd_level1_col4\" class=\"col_heading level1 col4\" >music</th>\n",
       "      <th id=\"T_951cd_level1_col5\" class=\"col_heading level1 col5\" >politics</th>\n",
       "      <th id=\"T_951cd_level1_col6\" class=\"col_heading level1 col6\" >sports</th>\n",
       "    </tr>\n",
       "    <tr>\n",
       "      <th class=\"index_name level0\" >user</th>\n",
       "      <th class=\"blank col0\" >&nbsp;</th>\n",
       "      <th class=\"blank col1\" >&nbsp;</th>\n",
       "      <th class=\"blank col2\" >&nbsp;</th>\n",
       "      <th class=\"blank col3\" >&nbsp;</th>\n",
       "      <th class=\"blank col4\" >&nbsp;</th>\n",
       "      <th class=\"blank col5\" >&nbsp;</th>\n",
       "      <th class=\"blank col6\" >&nbsp;</th>\n",
       "    </tr>\n",
       "  </thead>\n",
       "  <tbody>\n",
       "    <tr>\n",
       "      <th id=\"T_951cd_level0_row0\" class=\"row_heading level0 row0\" >Anna@afternoon</th>\n",
       "      <td id=\"T_951cd_row0_col0\" class=\"data row0 col0\" >0.000000</td>\n",
       "      <td id=\"T_951cd_row0_col1\" class=\"data row0 col1\" >0.000000</td>\n",
       "      <td id=\"T_951cd_row0_col2\" class=\"data row0 col2\" >-0.038960</td>\n",
       "      <td id=\"T_951cd_row0_col3\" class=\"data row0 col3\" >0.000000</td>\n",
       "      <td id=\"T_951cd_row0_col4\" class=\"data row0 col4\" >-0.068062</td>\n",
       "      <td id=\"T_951cd_row0_col5\" class=\"data row0 col5\" >-0.008992</td>\n",
       "      <td id=\"T_951cd_row0_col6\" class=\"data row0 col6\" >0.000000</td>\n",
       "    </tr>\n",
       "    <tr>\n",
       "      <th id=\"T_951cd_level0_row1\" class=\"row_heading level0 row1\" >Anna@morning</th>\n",
       "      <td id=\"T_951cd_row1_col0\" class=\"data row1 col0\" >0.079217</td>\n",
       "      <td id=\"T_951cd_row1_col1\" class=\"data row1 col1\" >0.076474</td>\n",
       "      <td id=\"T_951cd_row1_col2\" class=\"data row1 col2\" >-0.059684</td>\n",
       "      <td id=\"T_951cd_row1_col3\" class=\"data row1 col3\" >-0.235637</td>\n",
       "      <td id=\"T_951cd_row1_col4\" class=\"data row1 col4\" >-0.221099</td>\n",
       "      <td id=\"T_951cd_row1_col5\" class=\"data row1 col5\" >0.095828</td>\n",
       "      <td id=\"T_951cd_row1_col6\" class=\"data row1 col6\" >1.000000</td>\n",
       "    </tr>\n",
       "    <tr>\n",
       "      <th id=\"T_951cd_level0_row2\" class=\"row_heading level0 row2\" >Tom@afternoon</th>\n",
       "      <td id=\"T_951cd_row2_col0\" class=\"data row2 col0\" >-0.065680</td>\n",
       "      <td id=\"T_951cd_row2_col1\" class=\"data row2 col1\" >0.100325</td>\n",
       "      <td id=\"T_951cd_row2_col2\" class=\"data row2 col2\" >0.012231</td>\n",
       "      <td id=\"T_951cd_row2_col3\" class=\"data row2 col3\" >-0.092387</td>\n",
       "      <td id=\"T_951cd_row2_col4\" class=\"data row2 col4\" >1.000000</td>\n",
       "      <td id=\"T_951cd_row2_col5\" class=\"data row2 col5\" >0.017114</td>\n",
       "      <td id=\"T_951cd_row2_col6\" class=\"data row2 col6\" >-0.144913</td>\n",
       "    </tr>\n",
       "    <tr>\n",
       "      <th id=\"T_951cd_level0_row3\" class=\"row_heading level0 row3\" >Tom@morning</th>\n",
       "      <td id=\"T_951cd_row3_col0\" class=\"data row3 col0\" >-0.026754</td>\n",
       "      <td id=\"T_951cd_row3_col1\" class=\"data row3 col1\" >-0.018570</td>\n",
       "      <td id=\"T_951cd_row3_col2\" class=\"data row3 col2\" >-0.018148</td>\n",
       "      <td id=\"T_951cd_row3_col3\" class=\"data row3 col3\" >-0.000000</td>\n",
       "      <td id=\"T_951cd_row3_col4\" class=\"data row3 col4\" >-0.128651</td>\n",
       "      <td id=\"T_951cd_row3_col5\" class=\"data row3 col5\" >-0.016703</td>\n",
       "      <td id=\"T_951cd_row3_col6\" class=\"data row3 col6\" >-0.023109</td>\n",
       "    </tr>\n",
       "  </tbody>\n",
       "</table>\n"
      ],
      "text/plain": [
       "\u001b[1m<\u001b[0m\u001b[1;95mpandas.io.formats.style.Styler\u001b[0m\u001b[39m object at \u001b[0m\u001b[1;36m0x7fd06b5d60f0\u001b[0m\u001b[1m>\u001b[0m"
      ]
     },
     "execution_count": 13,
     "metadata": {},
     "output_type": "execute_result"
    }
   ],
   "source": [
    "import pandas as pd\n",
    "\n",
    "(\n",
    "    pd.DataFrame(\n",
    "        {\n",
    "            'user': user,\n",
    "            'item': item,\n",
    "            'preference': model.predict_one(user, item)\n",
    "        }\n",
    "        for user in model.u_latents\n",
    "        for item in model.i_latents\n",
    "    )\n",
    "    .pivot(index='user', columns='item')\n",
    "    .style.highlight_max(color='lightgreen', axis='columns')\n",
    ")"
   ]
  }
 ],
 "metadata": {
  "interpreter": {
   "hash": "e6e87bad9c8c768904c061eafcb4f6739260ff8bb57f302c215ab258ded773dc"
  },
  "kernelspec": {
   "display_name": "river",
   "language": "python",
   "name": "python3"
  },
  "language_info": {
   "codemirror_mode": {
    "name": "ipython",
    "version": 3
   },
   "file_extension": ".py",
   "mimetype": "text/x-python",
   "name": "python",
   "nbconvert_exporter": "python",
   "pygments_lexer": "ipython3",
   "version": "3.12.7"
  }
 },
 "nbformat": 4,
 "nbformat_minor": 4
}
