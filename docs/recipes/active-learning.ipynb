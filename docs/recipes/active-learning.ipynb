{
 "cells": [
  {
   "cell_type": "code",
   "execution_count": 84,
   "metadata": {},
   "outputs": [
    {
     "data": {
      "text/html": [
       "<div>\n",
       "<style scoped>\n",
       "    .dataframe tbody tr th:only-of-type {\n",
       "        vertical-align: middle;\n",
       "    }\n",
       "\n",
       "    .dataframe tbody tr th {\n",
       "        vertical-align: top;\n",
       "    }\n",
       "\n",
       "    .dataframe thead th {\n",
       "        text-align: right;\n",
       "    }\n",
       "</style>\n",
       "<table border=\"1\" class=\"dataframe\">\n",
       "  <thead>\n",
       "    <tr style=\"text-align: right;\">\n",
       "      <th>beta</th>\n",
       "      <th>1</th>\n",
       "      <th>3</th>\n",
       "      <th>5</th>\n",
       "      <th>7</th>\n",
       "      <th>9</th>\n",
       "    </tr>\n",
       "    <tr>\n",
       "      <th>top_p</th>\n",
       "      <th></th>\n",
       "      <th></th>\n",
       "      <th></th>\n",
       "      <th></th>\n",
       "      <th></th>\n",
       "    </tr>\n",
       "  </thead>\n",
       "  <tbody>\n",
       "    <tr>\n",
       "      <th>50%</th>\n",
       "      <td>100%</td>\n",
       "      <td>33%</td>\n",
       "      <td>20%</td>\n",
       "      <td>14%</td>\n",
       "      <td>11%</td>\n",
       "    </tr>\n",
       "    <tr>\n",
       "      <th>56%</th>\n",
       "      <td>99%</td>\n",
       "      <td>33%</td>\n",
       "      <td>20%</td>\n",
       "      <td>14%</td>\n",
       "      <td>11%</td>\n",
       "    </tr>\n",
       "    <tr>\n",
       "      <th>61%</th>\n",
       "      <td>96%</td>\n",
       "      <td>32%</td>\n",
       "      <td>19%</td>\n",
       "      <td>14%</td>\n",
       "      <td>11%</td>\n",
       "    </tr>\n",
       "    <tr>\n",
       "      <th>67%</th>\n",
       "      <td>92%</td>\n",
       "      <td>31%</td>\n",
       "      <td>18%</td>\n",
       "      <td>13%</td>\n",
       "      <td>10%</td>\n",
       "    </tr>\n",
       "    <tr>\n",
       "      <th>72%</th>\n",
       "      <td>85%</td>\n",
       "      <td>28%</td>\n",
       "      <td>17%</td>\n",
       "      <td>12%</td>\n",
       "      <td>9%</td>\n",
       "    </tr>\n",
       "    <tr>\n",
       "      <th>78%</th>\n",
       "      <td>76%</td>\n",
       "      <td>25%</td>\n",
       "      <td>15%</td>\n",
       "      <td>11%</td>\n",
       "      <td>8%</td>\n",
       "    </tr>\n",
       "    <tr>\n",
       "      <th>83%</th>\n",
       "      <td>65%</td>\n",
       "      <td>22%</td>\n",
       "      <td>13%</td>\n",
       "      <td>9%</td>\n",
       "      <td>7%</td>\n",
       "    </tr>\n",
       "    <tr>\n",
       "      <th>89%</th>\n",
       "      <td>50%</td>\n",
       "      <td>17%</td>\n",
       "      <td>10%</td>\n",
       "      <td>7%</td>\n",
       "      <td>6%</td>\n",
       "    </tr>\n",
       "    <tr>\n",
       "      <th>94%</th>\n",
       "      <td>31%</td>\n",
       "      <td>10%</td>\n",
       "      <td>6%</td>\n",
       "      <td>4%</td>\n",
       "      <td>3%</td>\n",
       "    </tr>\n",
       "    <tr>\n",
       "      <th>100%</th>\n",
       "      <td>-0%</td>\n",
       "      <td>-0%</td>\n",
       "      <td>-0%</td>\n",
       "      <td>-0%</td>\n",
       "      <td>-0%</td>\n",
       "    </tr>\n",
       "  </tbody>\n",
       "</table>\n",
       "</div>"
      ],
      "text/plain": [
       "beta      1    3    5    7    9\n",
       "top_p                          \n",
       "50%    100%  33%  20%  14%  11%\n",
       "56%     99%  33%  20%  14%  11%\n",
       "61%     96%  32%  19%  14%  11%\n",
       "67%     92%  31%  18%  13%  10%\n",
       "72%     85%  28%  17%  12%   9%\n",
       "78%     76%  25%  15%  11%   8%\n",
       "83%     65%  22%  13%   9%   7%\n",
       "89%     50%  17%  10%   7%   6%\n",
       "94%     31%  10%   6%   4%   3%\n",
       "100%    -0%  -0%  -0%  -0%  -0%"
      ]
     },
     "execution_count": 84,
     "metadata": {},
     "output_type": "execute_result"
    }
   ],
   "source": [
    "import numpy as np\n",
    "import pandas as pd\n",
    "\n",
    "beta = np.linspace(1, 9, 5).astype(int)\n",
    "top_p = np.linspace(0.5, 1, 10)\n",
    "pd.DataFrame(\n",
    "    [\n",
    "        [f\"{entropy([p, 1 - p]) / beta:.0%}\" for beta in beta]\n",
    "        for p in top_p\n",
    "    ],\n",
    "    index=pd.Index([f\"{p:.0%}\" for p in top_p], name=\"top_p\"),\n",
    "    columns=pd.Index(beta, name=\"beta\"),\n",
    ")"
   ]
  },
  {
   "cell_type": "code",
   "execution_count": 59,
   "metadata": {},
   "outputs": [
    {
     "data": {
      "text/plain": [
       "1.0"
      ]
     },
     "execution_count": 59,
     "metadata": {},
     "output_type": "execute_result"
    }
   ],
   "source": [
    "import math\n",
    "\n",
    "def entropy(P):\n",
    "    return -sum(p * math.log2(p) for p in P if p > 0)\n",
    "\n",
    "entropy(P=[0.5, 0.5])"
   ]
  },
  {
   "cell_type": "code",
   "execution_count": 65,
   "metadata": {},
   "outputs": [
    {
     "data": {
      "text/plain": [
       "0.9990567278352848"
      ]
     },
     "execution_count": 65,
     "metadata": {},
     "output_type": "execute_result"
    }
   ],
   "source": [
    "entropy(P=[0.33, 0.33, 0.33]) / math.log2(3)"
   ]
  },
  {
   "cell_type": "code",
   "execution_count": 43,
   "metadata": {},
   "outputs": [
    {
     "name": "stdout",
     "output_type": "stream",
     "text": [
      " 45% \t  55% \t  55%\n",
      " 50% \t  50% \t  50%\n",
      " 55% \t  45% \t  45%\n",
      " 60% \t  40% \t  40%\n",
      " 65% \t  35% \t  35%\n",
      " 70% \t  30% \t  30%\n",
      " 75% \t  25% \t  25%\n",
      " 80% \t  20% \t  20%\n",
      " 85% \t  15% \t  15%\n",
      " 90% \t  10% \t  10%\n"
     ]
    }
   ],
   "source": [
    "other_classes = 0.1\n",
    "for p in np.linspace((1 - other_classes) / 2, 1 - other_classes, 10):\n",
    "    best = p\n",
    "    second_best = 1 - p\n",
    "    beta_mean = second_best / (best + second_best)\n",
    "    print(f\"{best:>4.0%}\", '\\t', f\"{second_best:>4.0%}\", '\\t', f\"{beta_mean:>4.0%}\")"
   ]
  },
  {
   "attachments": {},
   "cell_type": "markdown",
   "metadata": {},
   "source": [
    "# Active learning"
   ]
  },
  {
   "attachments": {},
   "cell_type": "markdown",
   "metadata": {},
   "source": [
    "## Online active learning"
   ]
  },
  {
   "cell_type": "code",
   "execution_count": 1,
   "metadata": {},
   "outputs": [
    {
     "data": {
      "text/plain": [
       "Accuracy: 86.54%"
      ]
     },
     "execution_count": 1,
     "metadata": {},
     "output_type": "execute_result"
    }
   ],
   "source": [
    "from river import active\n",
    "from river import datasets\n",
    "from river import feature_extraction\n",
    "from river import linear_model\n",
    "from river import metrics\n",
    "from river import preprocessing\n",
    "\n",
    "dataset = datasets.SMSSpam()\n",
    "metric = metrics.Accuracy()\n",
    "model = (\n",
    "    feature_extraction.TFIDF(on='body') |\n",
    "    linear_model.LogisticRegression()\n",
    ")\n",
    "model = active.EntropySampler(model, seed=42)\n",
    "\n",
    "for x, y in dataset:\n",
    "    y_pred, ask = model.predict_proba_one(x)\n",
    "    metric.update(y, y_pred)\n",
    "    if ask:\n",
    "        model.learn_one(x, y)\n",
    "    \n",
    "metric"
   ]
  },
  {
   "attachments": {},
   "cell_type": "markdown",
   "metadata": {},
   "source": [
    "This is well summarized in the following schema from [Online Active Learning Methods for Fast Label-Efficient Spam Filtering](https://citeseerx.ist.psu.edu/document?repid=rep1&type=pdf&doi=6fef6272cd72292e2f5a54d02d6e5352664e20cb)."
   ]
  },
  {
   "attachments": {},
   "cell_type": "markdown",
   "metadata": {},
   "source": [
    "<div align=\"center\">\n",
    "    <img width=\"50%\" src=\"../img/online_active_learning.png\" />\n",
    "</div>"
   ]
  },
  {
   "cell_type": "code",
   "execution_count": 1,
   "metadata": {},
   "outputs": [
    {
     "data": {
      "text/plain": [
       "LogisticRegression (\n",
       "  optimizer=SGD (\n",
       "    lr=Constant (\n",
       "      learning_rate=0.01\n",
       "    )\n",
       "  )\n",
       "  loss=Log (\n",
       "    weight_pos=1.\n",
       "    weight_neg=1.\n",
       "  )\n",
       "  l2=0.\n",
       "  l1=0.\n",
       "  intercept_init=0.\n",
       "  intercept_lr=Constant (\n",
       "    learning_rate=0.01\n",
       "  )\n",
       "  clip_gradient=1e+12\n",
       "  initializer=Zeros ()\n",
       ")"
      ]
     },
     "execution_count": 1,
     "metadata": {},
     "output_type": "execute_result"
    }
   ],
   "source": [
    "from river import linear_model\n",
    "\n",
    "model = linear_model.LogisticRegression()\n",
    "model"
   ]
  },
  {
   "attachments": {},
   "cell_type": "markdown",
   "metadata": {},
   "source": [
    "## Reduce training time"
   ]
  },
  {
   "attachments": {},
   "cell_type": "markdown",
   "metadata": {},
   "source": [
    "#"
   ]
  },
  {
   "attachments": {},
   "cell_type": "markdown",
   "metadata": {},
   "source": [
    "## Production considerations"
   ]
  }
 ],
 "metadata": {
  "kernelspec": {
   "display_name": ".venv",
   "language": "python",
   "name": "python3"
  },
  "language_info": {
   "codemirror_mode": {
    "name": "ipython",
    "version": 3
   },
   "file_extension": ".py",
   "mimetype": "text/x-python",
   "name": "python",
   "nbconvert_exporter": "python",
   "pygments_lexer": "ipython3",
   "version": "3.11.0"
  },
  "orig_nbformat": 4,
  "vscode": {
   "interpreter": {
    "hash": "14b46bd212fa4dd89e3980db6ba7efbb9fe535833e1e483b914b71733e0a56d2"
   }
  }
 },
 "nbformat": 4,
 "nbformat_minor": 2
}
