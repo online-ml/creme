{
 "cells": [
  {
   "cell_type": "markdown",
   "metadata": {},
   "source": [
    "# Reading data"
   ]
  },
  {
   "cell_type": "markdown",
   "metadata": {},
   "source": [
    "In River, the features of a sample are stored inside a dictionary, which in Python is called a `dict` and is a native data structure. In other words, we don't use any sophisticated data structure, such as a `numpy.ndarray` or a `pandas.DataFrame`.\n",
    "\n",
    "The main advantage of using plain `dict`s is that it removes the overhead that comes with using the aforementioned data structures. This is important in a streaming context because we want to be able to process many individual samples in rapid succession. Another advantage is that `dict`s allow us to give names to our features. Finally, `dict`s are not typed, and can therefore store heterogeneous data.\n",
    "\n",
    "Another advantage which we haven't mentioned is that `dict`s play nicely with Python's standard library. Indeed, Python contains many tools that allow manipulating `dict`s. For instance, the `csv.DictReader` can be used to read a CSV file and convert each row to a `dict`. In fact, the `stream.iter_csv` method from River is just a wrapper on top of `csv.DictReader` that adds a few bells and whistles.\n",
    "\n",
    "River provides some out-of-the-box datasets to get you started."
   ]
  },
  {
   "cell_type": "code",
   "execution_count": 1,
   "metadata": {
    "execution": {
     "iopub.execute_input": "2022-10-26T11:28:36.098680Z",
     "iopub.status.busy": "2022-10-26T11:28:36.097765Z",
     "iopub.status.idle": "2022-10-26T11:28:36.706759Z",
     "shell.execute_reply": "2022-10-26T11:28:36.707258Z"
    },
    "tags": []
   },
   "outputs": [
    {
     "data": {
      "text/html": [
       "<pre style=\"white-space:pre;overflow-x:auto;line-height:normal;font-family:Menlo,'DejaVu Sans Mono',consolas,'Courier New',monospace\">\n",
       "Bike sharing station information from the city of Toulouse.\n",
       "\n",
       "The goal is to predict the number of bikes in <span style=\"color: #008080; text-decoration-color: #008080; font-weight: bold\">5</span> different bike stations from the city of\n",
       "Toulouse.\n",
       "\n",
       "      Name  Bikes                                                         \n",
       "      Task  Regression                                                    \n",
       "   Samples  <span style=\"color: #008080; text-decoration-color: #008080; font-weight: bold\">182</span>,<span style=\"color: #008080; text-decoration-color: #008080; font-weight: bold\">470</span>                                                       \n",
       "  Features  <span style=\"color: #008080; text-decoration-color: #008080; font-weight: bold\">8</span>                                                             \n",
       "    Sparse  <span style=\"color: #ff0000; text-decoration-color: #ff0000; font-style: italic\">False</span>                                                         \n",
       "      Path  <span style=\"color: #800080; text-decoration-color: #800080\">/Users/max.halford/river_data/Bikes/</span><span style=\"color: #ff00ff; text-decoration-color: #ff00ff\">toulouse_bikes.csv</span>        \n",
       "       URL  <span style=\"color: #0000ff; text-decoration-color: #0000ff; text-decoration: underline\">https://maxhalford.github.io/files/datasets/toulouse_bikes.zip</span>\n",
       "      Size  <span style=\"color: #008080; text-decoration-color: #008080; font-weight: bold\">12.52</span> MB                                                      \n",
       "Downloaded  <span style=\"color: #00ff00; text-decoration-color: #00ff00; font-style: italic\">True</span>                                                          \n",
       "</pre>\n"
      ],
      "text/plain": [
       "\n",
       "Bike sharing station information from the city of Toulouse.\n",
       "\n",
       "The goal is to predict the number of bikes in \u001b[1;36m5\u001b[0m different bike stations from the city of\n",
       "Toulouse.\n",
       "\n",
       "      Name  Bikes                                                         \n",
       "      Task  Regression                                                    \n",
       "   Samples  \u001b[1;36m182\u001b[0m,\u001b[1;36m470\u001b[0m                                                       \n",
       "  Features  \u001b[1;36m8\u001b[0m                                                             \n",
       "    Sparse  \u001b[3;91mFalse\u001b[0m                                                         \n",
       "      Path  \u001b[35m/Users/max.halford/river_data/Bikes/\u001b[0m\u001b[95mtoulouse_bikes.csv\u001b[0m        \n",
       "       URL  \u001b[4;94mhttps://maxhalford.github.io/files/datasets/toulouse_bikes.zip\u001b[0m\n",
       "      Size  \u001b[1;36m12.52\u001b[0m MB                                                      \n",
       "Downloaded  \u001b[3;92mTrue\u001b[0m                                                          \n"
      ]
     },
     "metadata": {},
     "output_type": "display_data"
    }
   ],
   "source": [
    "from river import datasets\n",
    "\n",
    "dataset = datasets.Bikes()\n",
    "dataset"
   ]
  },
  {
   "cell_type": "markdown",
   "metadata": {},
   "source": [
    "Note that when we say \"loaded\", we don't mean that the actual data is read from the disk. On the contrary, the dataset is a streaming data that can be iterated over one sample at a time. In Python lingo, it's a [generator](https://realpython.com/introduction-to-python-generators/)."
   ]
  },
  {
   "cell_type": "markdown",
   "metadata": {},
   "source": [
    "Let's take a look at the first sample:"
   ]
  },
  {
   "cell_type": "code",
   "execution_count": 2,
   "metadata": {
    "execution": {
     "iopub.execute_input": "2022-10-26T11:28:36.711683Z",
     "iopub.status.busy": "2022-10-26T11:28:36.710959Z",
     "iopub.status.idle": "2022-10-26T11:28:36.745781Z",
     "shell.execute_reply": "2022-10-26T11:28:36.745114Z"
    },
    "tags": []
   },
   "outputs": [
    {
     "data": {
      "text/html": [
       "<pre style=\"white-space:pre;overflow-x:auto;line-height:normal;font-family:Menlo,'DejaVu Sans Mono',consolas,'Courier New',monospace\">\n",
       "<span style=\"font-weight: bold\">{</span>\n",
       "    <span style=\"color: #008000; text-decoration-color: #008000\">'moment'</span>: <span style=\"color: #800080; text-decoration-color: #800080; font-weight: bold\">datetime.datetime</span><span style=\"font-weight: bold\">(</span><span style=\"color: #008080; text-decoration-color: #008080; font-weight: bold\">2016</span>, <span style=\"color: #008080; text-decoration-color: #008080; font-weight: bold\">4</span>, <span style=\"color: #008080; text-decoration-color: #008080; font-weight: bold\">1</span>, <span style=\"color: #008080; text-decoration-color: #008080; font-weight: bold\">0</span>, <span style=\"color: #008080; text-decoration-color: #008080; font-weight: bold\">0</span>, <span style=\"color: #008080; text-decoration-color: #008080; font-weight: bold\">7</span><span style=\"font-weight: bold\">)</span>,\n",
       "    <span style=\"color: #008000; text-decoration-color: #008000\">'station'</span>: <span style=\"color: #008000; text-decoration-color: #008000\">'metro-canal-du-midi'</span>,\n",
       "    <span style=\"color: #008000; text-decoration-color: #008000\">'clouds'</span>: <span style=\"color: #008080; text-decoration-color: #008080; font-weight: bold\">75</span>,\n",
       "    <span style=\"color: #008000; text-decoration-color: #008000\">'description'</span>: <span style=\"color: #008000; text-decoration-color: #008000\">'light rain'</span>,\n",
       "    <span style=\"color: #008000; text-decoration-color: #008000\">'humidity'</span>: <span style=\"color: #008080; text-decoration-color: #008080; font-weight: bold\">81</span>,\n",
       "    <span style=\"color: #008000; text-decoration-color: #008000\">'pressure'</span>: <span style=\"color: #008080; text-decoration-color: #008080; font-weight: bold\">1017.0</span>,\n",
       "    <span style=\"color: #008000; text-decoration-color: #008000\">'temperature'</span>: <span style=\"color: #008080; text-decoration-color: #008080; font-weight: bold\">6.54</span>,\n",
       "    <span style=\"color: #008000; text-decoration-color: #008000\">'wind'</span>: <span style=\"color: #008080; text-decoration-color: #008080; font-weight: bold\">9.3</span>\n",
       "<span style=\"font-weight: bold\">}</span>\n",
       "</pre>\n"
      ],
      "text/plain": [
       "\n",
       "\u001b[1m{\u001b[0m\n",
       "    \u001b[32m'moment'\u001b[0m: \u001b[1;35mdatetime.datetime\u001b[0m\u001b[1m(\u001b[0m\u001b[1;36m2016\u001b[0m, \u001b[1;36m4\u001b[0m, \u001b[1;36m1\u001b[0m, \u001b[1;36m0\u001b[0m, \u001b[1;36m0\u001b[0m, \u001b[1;36m7\u001b[0m\u001b[1m)\u001b[0m,\n",
       "    \u001b[32m'station'\u001b[0m: \u001b[32m'metro-canal-du-midi'\u001b[0m,\n",
       "    \u001b[32m'clouds'\u001b[0m: \u001b[1;36m75\u001b[0m,\n",
       "    \u001b[32m'description'\u001b[0m: \u001b[32m'light rain'\u001b[0m,\n",
       "    \u001b[32m'humidity'\u001b[0m: \u001b[1;36m81\u001b[0m,\n",
       "    \u001b[32m'pressure'\u001b[0m: \u001b[1;36m1017.0\u001b[0m,\n",
       "    \u001b[32m'temperature'\u001b[0m: \u001b[1;36m6.54\u001b[0m,\n",
       "    \u001b[32m'wind'\u001b[0m: \u001b[1;36m9.3\u001b[0m\n",
       "\u001b[1m}\u001b[0m\n"
      ]
     },
     "metadata": {},
     "output_type": "display_data"
    }
   ],
   "source": [
    "x, y = next(iter(dataset))\n",
    "x"
   ]
  },
  {
   "cell_type": "markdown",
   "metadata": {},
   "source": [
    "Each dataset is iterable, which means we can also do:"
   ]
  },
  {
   "cell_type": "code",
   "execution_count": 3,
   "metadata": {
    "execution": {
     "iopub.execute_input": "2022-10-26T11:28:36.752356Z",
     "iopub.status.busy": "2022-10-26T11:28:36.751719Z",
     "iopub.status.idle": "2022-10-26T11:28:36.785750Z",
     "shell.execute_reply": "2022-10-26T11:28:36.786203Z"
    },
    "tags": []
   },
   "outputs": [
    {
     "data": {
      "text/html": [
       "<pre style=\"white-space:pre;overflow-x:auto;line-height:normal;font-family:Menlo,'DejaVu Sans Mono',consolas,'Courier New',monospace\">\n",
       "<span style=\"font-weight: bold\">{</span>\n",
       "    <span style=\"color: #008000; text-decoration-color: #008000\">'moment'</span>: <span style=\"color: #800080; text-decoration-color: #800080; font-weight: bold\">datetime.datetime</span><span style=\"font-weight: bold\">(</span><span style=\"color: #008080; text-decoration-color: #008080; font-weight: bold\">2016</span>, <span style=\"color: #008080; text-decoration-color: #008080; font-weight: bold\">4</span>, <span style=\"color: #008080; text-decoration-color: #008080; font-weight: bold\">1</span>, <span style=\"color: #008080; text-decoration-color: #008080; font-weight: bold\">0</span>, <span style=\"color: #008080; text-decoration-color: #008080; font-weight: bold\">0</span>, <span style=\"color: #008080; text-decoration-color: #008080; font-weight: bold\">7</span><span style=\"font-weight: bold\">)</span>,\n",
       "    <span style=\"color: #008000; text-decoration-color: #008000\">'station'</span>: <span style=\"color: #008000; text-decoration-color: #008000\">'metro-canal-du-midi'</span>,\n",
       "    <span style=\"color: #008000; text-decoration-color: #008000\">'clouds'</span>: <span style=\"color: #008080; text-decoration-color: #008080; font-weight: bold\">75</span>,\n",
       "    <span style=\"color: #008000; text-decoration-color: #008000\">'description'</span>: <span style=\"color: #008000; text-decoration-color: #008000\">'light rain'</span>,\n",
       "    <span style=\"color: #008000; text-decoration-color: #008000\">'humidity'</span>: <span style=\"color: #008080; text-decoration-color: #008080; font-weight: bold\">81</span>,\n",
       "    <span style=\"color: #008000; text-decoration-color: #008000\">'pressure'</span>: <span style=\"color: #008080; text-decoration-color: #008080; font-weight: bold\">1017.0</span>,\n",
       "    <span style=\"color: #008000; text-decoration-color: #008000\">'temperature'</span>: <span style=\"color: #008080; text-decoration-color: #008080; font-weight: bold\">6.54</span>,\n",
       "    <span style=\"color: #008000; text-decoration-color: #008000\">'wind'</span>: <span style=\"color: #008080; text-decoration-color: #008080; font-weight: bold\">9.3</span>\n",
       "<span style=\"font-weight: bold\">}</span>\n",
       "</pre>\n"
      ],
      "text/plain": [
       "\n",
       "\u001b[1m{\u001b[0m\n",
       "    \u001b[32m'moment'\u001b[0m: \u001b[1;35mdatetime.datetime\u001b[0m\u001b[1m(\u001b[0m\u001b[1;36m2016\u001b[0m, \u001b[1;36m4\u001b[0m, \u001b[1;36m1\u001b[0m, \u001b[1;36m0\u001b[0m, \u001b[1;36m0\u001b[0m, \u001b[1;36m7\u001b[0m\u001b[1m)\u001b[0m,\n",
       "    \u001b[32m'station'\u001b[0m: \u001b[32m'metro-canal-du-midi'\u001b[0m,\n",
       "    \u001b[32m'clouds'\u001b[0m: \u001b[1;36m75\u001b[0m,\n",
       "    \u001b[32m'description'\u001b[0m: \u001b[32m'light rain'\u001b[0m,\n",
       "    \u001b[32m'humidity'\u001b[0m: \u001b[1;36m81\u001b[0m,\n",
       "    \u001b[32m'pressure'\u001b[0m: \u001b[1;36m1017.0\u001b[0m,\n",
       "    \u001b[32m'temperature'\u001b[0m: \u001b[1;36m6.54\u001b[0m,\n",
       "    \u001b[32m'wind'\u001b[0m: \u001b[1;36m9.3\u001b[0m\n",
       "\u001b[1m}\u001b[0m\n"
      ]
     },
     "metadata": {},
     "output_type": "display_data"
    }
   ],
   "source": [
    "for x, y in dataset:\n",
    "    break\n",
    "x"
   ]
  },
  {
   "cell_type": "markdown",
   "metadata": {},
   "source": [
    "As we can see, the values have different types.\n",
    "\n",
    "Under the hood, calling `for x, y in dataset` simply iterates over a file and parses each value appropriately. We can do this ourselves by using `stream.iter_csv`:"
   ]
  },
  {
   "cell_type": "code",
   "execution_count": 4,
   "metadata": {
    "execution": {
     "iopub.execute_input": "2022-10-26T11:28:36.790538Z",
     "iopub.status.busy": "2022-10-26T11:28:36.789836Z",
     "iopub.status.idle": "2022-10-26T11:28:36.820684Z",
     "shell.execute_reply": "2022-10-26T11:28:36.821175Z"
    },
    "tags": []
   },
   "outputs": [
    {
     "data": {
      "text/html": [
       "<pre style=\"white-space:pre;overflow-x:auto;line-height:normal;font-family:Menlo,'DejaVu Sans Mono',consolas,'Courier New',monospace\">\n",
       "<span style=\"font-weight: bold\">(</span>\n",
       "    <span style=\"font-weight: bold\">{</span>\n",
       "        <span style=\"color: #008000; text-decoration-color: #008000\">'moment'</span>: <span style=\"color: #008000; text-decoration-color: #008000\">'2016-04-01 00:00:07'</span>,\n",
       "        <span style=\"color: #008000; text-decoration-color: #008000\">'bikes'</span>: <span style=\"color: #008000; text-decoration-color: #008000\">'1'</span>,\n",
       "        <span style=\"color: #008000; text-decoration-color: #008000\">'station'</span>: <span style=\"color: #008000; text-decoration-color: #008000\">'metro-canal-du-midi'</span>,\n",
       "        <span style=\"color: #008000; text-decoration-color: #008000\">'clouds'</span>: <span style=\"color: #008000; text-decoration-color: #008000\">'75'</span>,\n",
       "        <span style=\"color: #008000; text-decoration-color: #008000\">'description'</span>: <span style=\"color: #008000; text-decoration-color: #008000\">'light rain'</span>,\n",
       "        <span style=\"color: #008000; text-decoration-color: #008000\">'humidity'</span>: <span style=\"color: #008000; text-decoration-color: #008000\">'81'</span>,\n",
       "        <span style=\"color: #008000; text-decoration-color: #008000\">'pressure'</span>: <span style=\"color: #008000; text-decoration-color: #008000\">'1017.0'</span>,\n",
       "        <span style=\"color: #008000; text-decoration-color: #008000\">'temperature'</span>: <span style=\"color: #008000; text-decoration-color: #008000\">'6.54'</span>,\n",
       "        <span style=\"color: #008000; text-decoration-color: #008000\">'wind'</span>: <span style=\"color: #008000; text-decoration-color: #008000\">'9.3'</span>\n",
       "    <span style=\"font-weight: bold\">}</span>,\n",
       "    <span style=\"color: #800080; text-decoration-color: #800080; font-style: italic\">None</span>\n",
       "<span style=\"font-weight: bold\">)</span>\n",
       "</pre>\n"
      ],
      "text/plain": [
       "\n",
       "\u001b[1m(\u001b[0m\n",
       "    \u001b[1m{\u001b[0m\n",
       "        \u001b[32m'moment'\u001b[0m: \u001b[32m'2016-04-01 00:00:07'\u001b[0m,\n",
       "        \u001b[32m'bikes'\u001b[0m: \u001b[32m'1'\u001b[0m,\n",
       "        \u001b[32m'station'\u001b[0m: \u001b[32m'metro-canal-du-midi'\u001b[0m,\n",
       "        \u001b[32m'clouds'\u001b[0m: \u001b[32m'75'\u001b[0m,\n",
       "        \u001b[32m'description'\u001b[0m: \u001b[32m'light rain'\u001b[0m,\n",
       "        \u001b[32m'humidity'\u001b[0m: \u001b[32m'81'\u001b[0m,\n",
       "        \u001b[32m'pressure'\u001b[0m: \u001b[32m'1017.0'\u001b[0m,\n",
       "        \u001b[32m'temperature'\u001b[0m: \u001b[32m'6.54'\u001b[0m,\n",
       "        \u001b[32m'wind'\u001b[0m: \u001b[32m'9.3'\u001b[0m\n",
       "    \u001b[1m}\u001b[0m,\n",
       "    \u001b[3;35mNone\u001b[0m\n",
       "\u001b[1m)\u001b[0m\n"
      ]
     },
     "metadata": {},
     "output_type": "display_data"
    }
   ],
   "source": [
    "from river import stream\n",
    "\n",
    "X_y = stream.iter_csv(dataset.path)\n",
    "x, y = next(X_y)\n",
    "x, y"
   ]
  },
  {
   "cell_type": "markdown",
   "metadata": {},
   "source": [
    "There are a couple things that are wrong. First of all, the numeric features have not been casted into numbers. Indeed, by default, `stream.iter_csv` assumes that everything is a string. A related issue is that the `moment` field hasn't been parsed into a `datetime`. Finally, the target field, which is `bikes`, hasn't been separated from the rest of the features. We can remedy to these issues by setting a few parameters:"
   ]
  },
  {
   "cell_type": "code",
   "execution_count": 5,
   "metadata": {
    "execution": {
     "iopub.execute_input": "2022-10-26T11:28:36.827877Z",
     "iopub.status.busy": "2022-10-26T11:28:36.827066Z",
     "iopub.status.idle": "2022-10-26T11:28:36.858851Z",
     "shell.execute_reply": "2022-10-26T11:28:36.858360Z"
    },
    "tags": []
   },
   "outputs": [
    {
     "data": {
      "text/html": [
       "<pre style=\"white-space:pre;overflow-x:auto;line-height:normal;font-family:Menlo,'DejaVu Sans Mono',consolas,'Courier New',monospace\">\n",
       "<span style=\"font-weight: bold\">(</span>\n",
       "    <span style=\"font-weight: bold\">{</span>\n",
       "        <span style=\"color: #008000; text-decoration-color: #008000\">'moment'</span>: <span style=\"color: #800080; text-decoration-color: #800080; font-weight: bold\">datetime.datetime</span><span style=\"font-weight: bold\">(</span><span style=\"color: #008080; text-decoration-color: #008080; font-weight: bold\">2016</span>, <span style=\"color: #008080; text-decoration-color: #008080; font-weight: bold\">4</span>, <span style=\"color: #008080; text-decoration-color: #008080; font-weight: bold\">1</span>, <span style=\"color: #008080; text-decoration-color: #008080; font-weight: bold\">0</span>, <span style=\"color: #008080; text-decoration-color: #008080; font-weight: bold\">0</span>, <span style=\"color: #008080; text-decoration-color: #008080; font-weight: bold\">7</span><span style=\"font-weight: bold\">)</span>,\n",
       "        <span style=\"color: #008000; text-decoration-color: #008000\">'station'</span>: <span style=\"color: #008000; text-decoration-color: #008000\">'metro-canal-du-midi'</span>,\n",
       "        <span style=\"color: #008000; text-decoration-color: #008000\">'clouds'</span>: <span style=\"color: #008080; text-decoration-color: #008080; font-weight: bold\">75</span>,\n",
       "        <span style=\"color: #008000; text-decoration-color: #008000\">'description'</span>: <span style=\"color: #008000; text-decoration-color: #008000\">'light rain'</span>,\n",
       "        <span style=\"color: #008000; text-decoration-color: #008000\">'humidity'</span>: <span style=\"color: #008080; text-decoration-color: #008080; font-weight: bold\">81</span>,\n",
       "        <span style=\"color: #008000; text-decoration-color: #008000\">'pressure'</span>: <span style=\"color: #008080; text-decoration-color: #008080; font-weight: bold\">1017.0</span>,\n",
       "        <span style=\"color: #008000; text-decoration-color: #008000\">'temperature'</span>: <span style=\"color: #008080; text-decoration-color: #008080; font-weight: bold\">6.54</span>,\n",
       "        <span style=\"color: #008000; text-decoration-color: #008000\">'wind'</span>: <span style=\"color: #008080; text-decoration-color: #008080; font-weight: bold\">9.3</span>\n",
       "    <span style=\"font-weight: bold\">}</span>,\n",
       "    <span style=\"color: #008080; text-decoration-color: #008080; font-weight: bold\">1</span>\n",
       "<span style=\"font-weight: bold\">)</span>\n",
       "</pre>\n"
      ],
      "text/plain": [
       "\n",
       "\u001b[1m(\u001b[0m\n",
       "    \u001b[1m{\u001b[0m\n",
       "        \u001b[32m'moment'\u001b[0m: \u001b[1;35mdatetime.datetime\u001b[0m\u001b[1m(\u001b[0m\u001b[1;36m2016\u001b[0m, \u001b[1;36m4\u001b[0m, \u001b[1;36m1\u001b[0m, \u001b[1;36m0\u001b[0m, \u001b[1;36m0\u001b[0m, \u001b[1;36m7\u001b[0m\u001b[1m)\u001b[0m,\n",
       "        \u001b[32m'station'\u001b[0m: \u001b[32m'metro-canal-du-midi'\u001b[0m,\n",
       "        \u001b[32m'clouds'\u001b[0m: \u001b[1;36m75\u001b[0m,\n",
       "        \u001b[32m'description'\u001b[0m: \u001b[32m'light rain'\u001b[0m,\n",
       "        \u001b[32m'humidity'\u001b[0m: \u001b[1;36m81\u001b[0m,\n",
       "        \u001b[32m'pressure'\u001b[0m: \u001b[1;36m1017.0\u001b[0m,\n",
       "        \u001b[32m'temperature'\u001b[0m: \u001b[1;36m6.54\u001b[0m,\n",
       "        \u001b[32m'wind'\u001b[0m: \u001b[1;36m9.3\u001b[0m\n",
       "    \u001b[1m}\u001b[0m,\n",
       "    \u001b[1;36m1\u001b[0m\n",
       "\u001b[1m)\u001b[0m\n"
      ]
     },
     "metadata": {},
     "output_type": "display_data"
    }
   ],
   "source": [
    "X_y = stream.iter_csv(\n",
    "    dataset.path,\n",
    "    converters={\n",
    "        'bikes': int,\n",
    "        'clouds': int,\n",
    "        'humidity': int,\n",
    "        'pressure': float,\n",
    "        'temperature': float,\n",
    "        'wind': float\n",
    "    },\n",
    "    parse_dates={'moment': '%Y-%m-%d %H:%M:%S'},\n",
    "    target='bikes'\n",
    ")\n",
    "x, y = next(X_y)\n",
    "x, y"
   ]
  },
  {
   "cell_type": "markdown",
   "metadata": {},
   "source": [
    "That's much better. We invite you to take a look at the `stream` module to see for yourself what other methods are available. Note that River is first and foremost a machine learning library, and therefore isn't as much concerned about reading data as it is about statistical algorithms. We do however believe that the fact that we use dictionary gives you, the user, a lot of freedom and flexibility.\n",
    "\n",
    "The `stream` module provides helper functions to read data from different formats. For instance, you can use the `stream.iter_sklearn_dataset` function to turn any scikit-learn dataset into a stream."
   ]
  },
  {
   "cell_type": "code",
   "execution_count": 6,
   "metadata": {
    "execution": {
     "iopub.execute_input": "2022-10-26T11:28:36.863215Z",
     "iopub.status.busy": "2022-10-26T11:28:36.862578Z",
     "iopub.status.idle": "2022-10-26T11:28:37.019398Z",
     "shell.execute_reply": "2022-10-26T11:28:37.019913Z"
    },
    "tags": []
   },
   "outputs": [
    {
     "data": {
      "text/html": [
       "<pre style=\"white-space:pre;overflow-x:auto;line-height:normal;font-family:Menlo,'DejaVu Sans Mono',consolas,'Courier New',monospace\">\n",
       "<span style=\"font-weight: bold\">(</span>\n",
       "    <span style=\"font-weight: bold\">{</span>\n",
       "        <span style=\"color: #008000; text-decoration-color: #008000\">'age'</span>: <span style=\"color: #008080; text-decoration-color: #008080; font-weight: bold\">0.038075906433423026</span>,\n",
       "        <span style=\"color: #008000; text-decoration-color: #008000\">'sex'</span>: <span style=\"color: #008080; text-decoration-color: #008080; font-weight: bold\">0.05068011873981862</span>,\n",
       "        <span style=\"color: #008000; text-decoration-color: #008000\">'bmi'</span>: <span style=\"color: #008080; text-decoration-color: #008080; font-weight: bold\">0.061696206518683294</span>,\n",
       "        <span style=\"color: #008000; text-decoration-color: #008000\">'bp'</span>: <span style=\"color: #008080; text-decoration-color: #008080; font-weight: bold\">0.0218723855140367</span>,\n",
       "        <span style=\"color: #008000; text-decoration-color: #008000\">'s1'</span>: <span style=\"color: #008080; text-decoration-color: #008080; font-weight: bold\">-0.04422349842444599</span>,\n",
       "        <span style=\"color: #008000; text-decoration-color: #008000\">'s2'</span>: <span style=\"color: #008080; text-decoration-color: #008080; font-weight: bold\">-0.03482076283769895</span>,\n",
       "        <span style=\"color: #008000; text-decoration-color: #008000\">'s3'</span>: <span style=\"color: #008080; text-decoration-color: #008080; font-weight: bold\">-0.04340084565202491</span>,\n",
       "        <span style=\"color: #008000; text-decoration-color: #008000\">'s4'</span>: <span style=\"color: #008080; text-decoration-color: #008080; font-weight: bold\">-0.002592261998183278</span>,\n",
       "        <span style=\"color: #008000; text-decoration-color: #008000\">'s5'</span>: <span style=\"color: #008080; text-decoration-color: #008080; font-weight: bold\">0.019907486170462722</span>,\n",
       "        <span style=\"color: #008000; text-decoration-color: #008000\">'s6'</span>: <span style=\"color: #008080; text-decoration-color: #008080; font-weight: bold\">-0.01764612515980379</span>\n",
       "    <span style=\"font-weight: bold\">}</span>,\n",
       "    <span style=\"color: #008080; text-decoration-color: #008080; font-weight: bold\">151.0</span>\n",
       "<span style=\"font-weight: bold\">)</span>\n",
       "</pre>\n"
      ],
      "text/plain": [
       "\n",
       "\u001b[1m(\u001b[0m\n",
       "    \u001b[1m{\u001b[0m\n",
       "        \u001b[32m'age'\u001b[0m: \u001b[1;36m0.038075906433423026\u001b[0m,\n",
       "        \u001b[32m'sex'\u001b[0m: \u001b[1;36m0.05068011873981862\u001b[0m,\n",
       "        \u001b[32m'bmi'\u001b[0m: \u001b[1;36m0.061696206518683294\u001b[0m,\n",
       "        \u001b[32m'bp'\u001b[0m: \u001b[1;36m0.0218723855140367\u001b[0m,\n",
       "        \u001b[32m's1'\u001b[0m: \u001b[1;36m-0.04422349842444599\u001b[0m,\n",
       "        \u001b[32m's2'\u001b[0m: \u001b[1;36m-0.03482076283769895\u001b[0m,\n",
       "        \u001b[32m's3'\u001b[0m: \u001b[1;36m-0.04340084565202491\u001b[0m,\n",
       "        \u001b[32m's4'\u001b[0m: \u001b[1;36m-0.002592261998183278\u001b[0m,\n",
       "        \u001b[32m's5'\u001b[0m: \u001b[1;36m0.019907486170462722\u001b[0m,\n",
       "        \u001b[32m's6'\u001b[0m: \u001b[1;36m-0.01764612515980379\u001b[0m\n",
       "    \u001b[1m}\u001b[0m,\n",
       "    \u001b[1;36m151.0\u001b[0m\n",
       "\u001b[1m)\u001b[0m\n"
      ]
     },
     "metadata": {},
     "output_type": "display_data"
    }
   ],
   "source": [
    "from sklearn import datasets\n",
    "\n",
    "dataset = datasets.load_diabetes()\n",
    "\n",
    "for x, y in stream.iter_sklearn_dataset(dataset):\n",
    "    break\n",
    "\n",
    "x, y"
   ]
  },
  {
   "cell_type": "markdown",
   "metadata": {},
   "source": [
    "To conclude, let us shortly mention the difference between *proactive learning* and *reactive learning* in the specific context of online machine learning. When we loop over a data with a `for` loop, we have the control over the data and the order in which it arrives. We are proactive in the sense that we, the user, are asking for the data to arrive.\n",
    "\n",
    "In contract, in a reactive situation, we don't have control on the data arrival. A typical example of such a situation is a web server, where web requests arrive in an arbitrary order. This is a situation where River shines. For instance, in a [Flask](https://flask.palletsprojects.com/en/1.1.x/) application, you could define a route to make predictions with a River model as so:"
   ]
  },
  {
   "cell_type": "code",
   "execution_count": 7,
   "metadata": {
    "execution": {
     "iopub.execute_input": "2022-10-26T11:28:37.025708Z",
     "iopub.status.busy": "2022-10-26T11:28:37.024627Z",
     "iopub.status.idle": "2022-10-26T11:28:37.342407Z",
     "shell.execute_reply": "2022-10-26T11:28:37.342890Z"
    },
    "tags": []
   },
   "outputs": [],
   "source": [
    "import flask\n",
    "\n",
    "app = flask.Flask(__name__)\n",
    "\n",
    "@app.route('/', methods=['GET'])\n",
    "def predict():\n",
    "    payload = flask.request.json\n",
    "    river_model = load_model()\n",
    "    return river_model.predict_proba_one(payload)"
   ]
  },
  {
   "cell_type": "markdown",
   "metadata": {},
   "source": [
    "Likewise, a model can be updated whenever a request arrives as so:"
   ]
  },
  {
   "cell_type": "code",
   "execution_count": 8,
   "metadata": {
    "execution": {
     "iopub.execute_input": "2022-10-26T11:28:37.348167Z",
     "iopub.status.busy": "2022-10-26T11:28:37.347449Z",
     "iopub.status.idle": "2022-10-26T11:28:37.379121Z",
     "shell.execute_reply": "2022-10-26T11:28:37.379524Z"
    },
    "tags": []
   },
   "outputs": [],
   "source": [
    "@app.route('/', methods=['POST'])\n",
    "def learn():\n",
    "    payload = flask.request.json\n",
    "    river_model = load_model()\n",
    "    river_model.learn_one(payload['features'], payload['target'])\n",
    "    return {}, 201"
   ]
  },
  {
   "cell_type": "markdown",
   "metadata": {},
   "source": [
    "To summarize, River can be used in many different ways. The fact that it uses dictionaries to represent features provides a lot of flexibility and space for creativity."
   ]
  }
 ],
 "metadata": {
  "interpreter": {
   "hash": "cd50771599b57adf6ea700641441f38e32b572b636c349c3951bac686eaf769f"
  },
  "kernelspec": {
   "display_name": "Python 3",
   "language": "python",
   "name": "python3"
  },
  "language_info": {
   "codemirror_mode": {
    "name": "ipython",
    "version": 3
   },
   "file_extension": ".py",
   "mimetype": "text/x-python",
   "name": "python",
   "nbconvert_exporter": "python",
   "pygments_lexer": "ipython3",
   "version": "3.9.12"
  }
 },
 "nbformat": 4,
 "nbformat_minor": 4
}
