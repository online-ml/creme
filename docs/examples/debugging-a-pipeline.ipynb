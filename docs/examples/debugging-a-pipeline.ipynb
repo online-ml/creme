{
 "cells": [
  {
   "cell_type": "markdown",
   "metadata": {},
   "source": [
    "# Debugging a pipeline"
   ]
  },
  {
   "cell_type": "markdown",
   "metadata": {},
   "source": [
    "`river` encourages users to make use of pipelines. The biggest pain point of pipelines is that it can be hard to understand what's happening to the data, especially when the pipeline is complex. Fortunately the `Pipeline` class has a `debug_one` method that can help out.\n",
    "\n",
    "Let's look at a fairly complex pipeline for predicting the number of bikes in 5 bike stations from the city of Toulouse. It doesn't matter if you understand the pipeline or not; the point of this notebook is to learn how to introspect a pipeline."
   ]
  },
  {
   "cell_type": "code",
   "execution_count": 1,
   "metadata": {
    "execution": {
     "iopub.execute_input": "2022-09-02T17:54:31.140674Z",
     "iopub.status.busy": "2022-09-02T17:54:31.139862Z",
     "iopub.status.idle": "2022-09-02T17:54:56.853191Z",
     "shell.execute_reply": "2022-09-02T17:54:56.853702Z"
    },
    "tags": []
   },
   "outputs": [
    {
     "data": {
      "text/html": [
       "<pre style=\"white-space:pre;overflow-x:auto;line-height:normal;font-family:Menlo,'DejaVu Sans Mono',consolas,'Courier New',monospace\"><span style=\"color: #008080; text-decoration-color: #008080; font-weight: bold\">30000</span> MAE: <span style=\"color: #008080; text-decoration-color: #008080; font-weight: bold\">2.220942</span>\n",
       "</pre>\n"
      ],
      "text/plain": [
       "\u001b[1;36m30000\u001b[0m MAE: \u001b[1;36m2.220942\u001b[0m\n"
      ]
     },
     "metadata": {},
     "output_type": "display_data"
    },
    {
     "data": {
      "text/html": [
       "<pre style=\"white-space:pre;overflow-x:auto;line-height:normal;font-family:Menlo,'DejaVu Sans Mono',consolas,'Courier New',monospace\"><span style=\"color: #008080; text-decoration-color: #008080; font-weight: bold\">60000</span> MAE: <span style=\"color: #008080; text-decoration-color: #008080; font-weight: bold\">2.270271</span>\n",
       "</pre>\n"
      ],
      "text/plain": [
       "\u001b[1;36m60000\u001b[0m MAE: \u001b[1;36m2.270271\u001b[0m\n"
      ]
     },
     "metadata": {},
     "output_type": "display_data"
    },
    {
     "data": {
      "text/html": [
       "<pre style=\"white-space:pre;overflow-x:auto;line-height:normal;font-family:Menlo,'DejaVu Sans Mono',consolas,'Courier New',monospace\"><span style=\"color: #008080; text-decoration-color: #008080; font-weight: bold\">90000</span> MAE: <span style=\"color: #008080; text-decoration-color: #008080; font-weight: bold\">2.301302</span>\n",
       "</pre>\n"
      ],
      "text/plain": [
       "\u001b[1;36m90000\u001b[0m MAE: \u001b[1;36m2.301302\u001b[0m\n"
      ]
     },
     "metadata": {},
     "output_type": "display_data"
    },
    {
     "data": {
      "text/html": [
       "<pre style=\"white-space:pre;overflow-x:auto;line-height:normal;font-family:Menlo,'DejaVu Sans Mono',consolas,'Courier New',monospace\"><span style=\"color: #008080; text-decoration-color: #008080; font-weight: bold\">120000</span> MAE: <span style=\"color: #008080; text-decoration-color: #008080; font-weight: bold\">2.275876</span>\n",
       "</pre>\n"
      ],
      "text/plain": [
       "\u001b[1;36m120000\u001b[0m MAE: \u001b[1;36m2.275876\u001b[0m\n"
      ]
     },
     "metadata": {},
     "output_type": "display_data"
    },
    {
     "data": {
      "text/html": [
       "<pre style=\"white-space:pre;overflow-x:auto;line-height:normal;font-family:Menlo,'DejaVu Sans Mono',consolas,'Courier New',monospace\"><span style=\"color: #008080; text-decoration-color: #008080; font-weight: bold\">150000</span> MAE: <span style=\"color: #008080; text-decoration-color: #008080; font-weight: bold\">2.275224</span>\n",
       "</pre>\n"
      ],
      "text/plain": [
       "\u001b[1;36m150000\u001b[0m MAE: \u001b[1;36m2.275224\u001b[0m\n"
      ]
     },
     "metadata": {},
     "output_type": "display_data"
    },
    {
     "data": {
      "text/html": [
       "<pre style=\"white-space:pre;overflow-x:auto;line-height:normal;font-family:Menlo,'DejaVu Sans Mono',consolas,'Courier New',monospace\"><span style=\"color: #008080; text-decoration-color: #008080; font-weight: bold\">180000</span> MAE: <span style=\"color: #008080; text-decoration-color: #008080; font-weight: bold\">2.289347</span>\n",
       "</pre>\n"
      ],
      "text/plain": [
       "\u001b[1;36m180000\u001b[0m MAE: \u001b[1;36m2.289347\u001b[0m\n"
      ]
     },
     "metadata": {},
     "output_type": "display_data"
    }
   ],
   "source": [
    "import datetime as dt\n",
    "from river import compose\n",
    "from river import datasets\n",
    "from river import feature_extraction\n",
    "from river import linear_model\n",
    "from river import metrics\n",
    "from river import preprocessing\n",
    "from river import stats\n",
    "from river import stream\n",
    "\n",
    "\n",
    "X_y = datasets.Bikes()\n",
    "X_y = stream.simulate_qa(X_y, moment='moment', delay=dt.timedelta(minutes=30))\n",
    "\n",
    "def add_time_features(x):\n",
    "    return {\n",
    "        **x,\n",
    "        'hour': x['moment'].hour,\n",
    "        'day': x['moment'].weekday()\n",
    "    }\n",
    "\n",
    "model = add_time_features\n",
    "model |= (\n",
    "    compose.Select('clouds', 'humidity', 'pressure', 'temperature', 'wind') +\n",
    "    feature_extraction.TargetAgg(by=['station', 'hour'], how=stats.Mean()) +\n",
    "    feature_extraction.TargetAgg(by='station', how=stats.EWMean())\n",
    ")\n",
    "model |= preprocessing.StandardScaler()\n",
    "model |= linear_model.LinearRegression()\n",
    "\n",
    "metric = metrics.MAE()\n",
    "\n",
    "questions = {}\n",
    "\n",
    "for i, x, y in X_y:\n",
    "    # Question\n",
    "    is_question = y is None\n",
    "    if is_question:\n",
    "        y_pred = model.predict_one(x)\n",
    "        questions[i] = y_pred\n",
    "    \n",
    "    # Answer\n",
    "    else:\n",
    "        metric.update(y, questions[i])\n",
    "        model = model.learn_one(x, y)\n",
    "    \n",
    "        if i >= 30000 and i % 30000 == 0:\n",
    "            print(i, metric)"
   ]
  },
  {
   "cell_type": "markdown",
   "metadata": {},
   "source": [
    "Let's start by looking at the pipeline. You can click each cell to display the current state for each step of the pipeline."
   ]
  },
  {
   "cell_type": "code",
   "execution_count": 2,
   "metadata": {
    "execution": {
     "iopub.execute_input": "2022-09-02T17:54:56.857145Z",
     "iopub.status.busy": "2022-09-02T17:54:56.856588Z",
     "iopub.status.idle": "2022-09-02T17:54:56.882542Z",
     "shell.execute_reply": "2022-09-02T17:54:56.883110Z"
    },
    "tags": []
   },
   "outputs": [
    {
     "data": {
      "text/html": [
       "<div><div class=\"river-component river-pipeline\"><details class=\"river-component river-estimator\"><summary class=\"river-summary\"><pre class=\"river-estimator-name\">add_time_features</pre></summary><code class=\"river-estimator-params\">\n",
       "def add_time_features(x):\n",
       "    return {\n",
       "        **x,\n",
       "        'hour': x['moment'].hour,\n",
       "        'day': x['moment'].weekday()\n",
       "    }\n",
       "\n",
       "</code></details><div class=\"river-component river-union\"><details class=\"river-component river-estimator\"><summary class=\"river-summary\"><pre class=\"river-estimator-name\">['clouds', 'humidity', 'pressure', 'temperature', 'wind']</pre></summary><code class=\"river-estimator-params\">(\n",
       "  clouds\n",
       "  humidity\n",
       "  pressure\n",
       "  temperature\n",
       "  wind\n",
       ")\n",
       "\n",
       "</code></details><details class=\"river-component river-estimator\"><summary class=\"river-summary\"><pre class=\"river-estimator-name\">y_mean_by_station_and_hour</pre></summary><code class=\"river-estimator-params\">(\n",
       "  by=['station', 'hour']\n",
       "  how=Mean ()\n",
       "  target_name=\"y\"\n",
       ")\n",
       "\n",
       "</code></details><details class=\"river-component river-estimator\"><summary class=\"river-summary\"><pre class=\"river-estimator-name\">y_ewm_0.5_by_station</pre></summary><code class=\"river-estimator-params\">(\n",
       "  by=['station']\n",
       "  how=EWMean (\n",
       "    alpha=0.5\n",
       "  )\n",
       "  target_name=\"y\"\n",
       ")\n",
       "\n",
       "</code></details></div><details class=\"river-component river-estimator\"><summary class=\"river-summary\"><pre class=\"river-estimator-name\">StandardScaler</pre></summary><code class=\"river-estimator-params\">(\n",
       "  with_std=True\n",
       ")\n",
       "\n",
       "</code></details><details class=\"river-component river-estimator\"><summary class=\"river-summary\"><pre class=\"river-estimator-name\">LinearRegression</pre></summary><code class=\"river-estimator-params\">(\n",
       "  optimizer=SGD (\n",
       "    lr=Constant (\n",
       "      learning_rate=0.01\n",
       "    )\n",
       "  )\n",
       "  loss=Squared ()\n",
       "  l2=0.\n",
       "  l1=0.\n",
       "  intercept_init=0.\n",
       "  intercept_lr=Constant (\n",
       "    learning_rate=0.01\n",
       "  )\n",
       "  clip_gradient=1e+12\n",
       "  initializer=Zeros ()\n",
       ")\n",
       "\n",
       "</code></details></div><style scoped>\n",
       ".river-estimator {\n",
       "    padding: 1em;\n",
       "    border-style: solid;\n",
       "    background: white;\n",
       "}\n",
       "\n",
       ".river-pipeline {\n",
       "    display: flex;\n",
       "    flex-direction: column;\n",
       "    align-items: center;\n",
       "    background: linear-gradient(#000, #000) no-repeat center / 3px 100%;\n",
       "}\n",
       "\n",
       ".river-union {\n",
       "    display: flex;\n",
       "    flex-direction: row;\n",
       "    align-items: center;\n",
       "    justify-content: center;\n",
       "    padding: 1em;\n",
       "    border-style: solid;\n",
       "    background: white;\n",
       "}\n",
       "\n",
       ".river-wrapper {\n",
       "    display: flex;\n",
       "    flex-direction: column;\n",
       "    align-items: center;\n",
       "    justify-content: center;\n",
       "    padding: 1em;\n",
       "    border-style: solid;\n",
       "    background: white;\n",
       "}\n",
       "\n",
       ".river-wrapper > .river-estimator {\n",
       "    margin-top: 1em;\n",
       "}\n",
       "\n",
       "/* Vertical spacing between steps */\n",
       "\n",
       ".river-component + .river-component {\n",
       "    margin-top: 2em;\n",
       "}\n",
       "\n",
       ".river-union > .river-estimator {\n",
       "    margin-top: 0;\n",
       "}\n",
       "\n",
       ".river-union > .pipeline {\n",
       "    margin-top: 0;\n",
       "}\n",
       "\n",
       "/* Spacing within a union of estimators */\n",
       "\n",
       ".river-union > .river-component + .river-component {\n",
       "    margin-left: 1em;\n",
       "}\n",
       "\n",
       "/* Typography */\n",
       "\n",
       ".river-estimator-params {\n",
       "    display: block;\n",
       "    white-space: pre-wrap;\n",
       "    font-size: 120%;\n",
       "    margin-bottom: -1em;\n",
       "}\n",
       "\n",
       ".river-estimator > .river-estimator-params,\n",
       ".river-wrapper > .river-details > river-estimator-params {\n",
       "    background-color: white !important;\n",
       "}\n",
       "\n",
       ".river-estimator-name {\n",
       "    display: inline;\n",
       "    margin: 0;\n",
       "    font-size: 130%;\n",
       "}\n",
       "\n",
       "/* Toggle */\n",
       "\n",
       ".river-summary {\n",
       "    display: flex;\n",
       "    align-items:center;\n",
       "    cursor: pointer;\n",
       "}\n",
       "\n",
       ".river-summary > div {\n",
       "    width: 100%;\n",
       "}\n",
       "</style></div>"
      ]
     },
     "execution_count": 2,
     "metadata": {},
     "output_type": "execute_result"
    }
   ],
   "source": [
    "model"
   ]
  },
  {
   "cell_type": "markdown",
   "metadata": {},
   "source": [
    "As mentioned above the `Pipeline` class has a `debug_one` method. You can use this at any point you want to visualize what happen to an input `x`. For example, let's see what happens to the last seen `x`."
   ]
  },
  {
   "cell_type": "code",
   "execution_count": 3,
   "metadata": {
    "execution": {
     "iopub.execute_input": "2022-09-02T17:54:56.886462Z",
     "iopub.status.busy": "2022-09-02T17:54:56.885918Z",
     "iopub.status.idle": "2022-09-02T17:54:56.917400Z",
     "shell.execute_reply": "2022-09-02T17:54:56.918017Z"
    },
    "tags": []
   },
   "outputs": [
    {
     "data": {
      "text/html": [
       "<pre style=\"white-space:pre;overflow-x:auto;line-height:normal;font-family:Menlo,'DejaVu Sans Mono',consolas,'Courier New',monospace\"><span style=\"color: #008080; text-decoration-color: #008080; font-weight: bold\">0</span>. Input\n",
       "--------\n",
       "clouds: <span style=\"color: #008080; text-decoration-color: #008080; font-weight: bold\">88</span> <span style=\"font-weight: bold\">(</span>int<span style=\"font-weight: bold\">)</span>\n",
       "description: overcast clouds <span style=\"font-weight: bold\">(</span>str<span style=\"font-weight: bold\">)</span>\n",
       "humidity: <span style=\"color: #008080; text-decoration-color: #008080; font-weight: bold\">84</span> <span style=\"font-weight: bold\">(</span>int<span style=\"font-weight: bold\">)</span>\n",
       "moment: <span style=\"color: #008080; text-decoration-color: #008080; font-weight: bold\">2016</span>-<span style=\"color: #008080; text-decoration-color: #008080; font-weight: bold\">10</span>-<span style=\"color: #008080; text-decoration-color: #008080; font-weight: bold\">05</span> <span style=\"color: #00ff00; text-decoration-color: #00ff00; font-weight: bold\">09:57:18</span> <span style=\"font-weight: bold\">(</span>datetime<span style=\"font-weight: bold\">)</span>\n",
       "pressure: <span style=\"color: #008080; text-decoration-color: #008080; font-weight: bold\">1</span>,<span style=\"color: #008080; text-decoration-color: #008080; font-weight: bold\">017.34000</span> <span style=\"font-weight: bold\">(</span>float<span style=\"font-weight: bold\">)</span>\n",
       "station: pomme <span style=\"font-weight: bold\">(</span>str<span style=\"font-weight: bold\">)</span>\n",
       "temperature: <span style=\"color: #008080; text-decoration-color: #008080; font-weight: bold\">17.45000</span> <span style=\"font-weight: bold\">(</span>float<span style=\"font-weight: bold\">)</span>\n",
       "wind: <span style=\"color: #008080; text-decoration-color: #008080; font-weight: bold\">1.95000</span> <span style=\"font-weight: bold\">(</span>float<span style=\"font-weight: bold\">)</span>\n",
       "\n",
       "<span style=\"color: #008080; text-decoration-color: #008080; font-weight: bold\">1</span>. add_time_features\n",
       "--------------------\n",
       "clouds: <span style=\"color: #008080; text-decoration-color: #008080; font-weight: bold\">88</span> <span style=\"font-weight: bold\">(</span>int<span style=\"font-weight: bold\">)</span>\n",
       "day: <span style=\"color: #008080; text-decoration-color: #008080; font-weight: bold\">2</span> <span style=\"font-weight: bold\">(</span>int<span style=\"font-weight: bold\">)</span>\n",
       "description: overcast clouds <span style=\"font-weight: bold\">(</span>str<span style=\"font-weight: bold\">)</span>\n",
       "hour: <span style=\"color: #008080; text-decoration-color: #008080; font-weight: bold\">9</span> <span style=\"font-weight: bold\">(</span>int<span style=\"font-weight: bold\">)</span>\n",
       "humidity: <span style=\"color: #008080; text-decoration-color: #008080; font-weight: bold\">84</span> <span style=\"font-weight: bold\">(</span>int<span style=\"font-weight: bold\">)</span>\n",
       "moment: <span style=\"color: #008080; text-decoration-color: #008080; font-weight: bold\">2016</span>-<span style=\"color: #008080; text-decoration-color: #008080; font-weight: bold\">10</span>-<span style=\"color: #008080; text-decoration-color: #008080; font-weight: bold\">05</span> <span style=\"color: #00ff00; text-decoration-color: #00ff00; font-weight: bold\">09:57:18</span> <span style=\"font-weight: bold\">(</span>datetime<span style=\"font-weight: bold\">)</span>\n",
       "pressure: <span style=\"color: #008080; text-decoration-color: #008080; font-weight: bold\">1</span>,<span style=\"color: #008080; text-decoration-color: #008080; font-weight: bold\">017.34000</span> <span style=\"font-weight: bold\">(</span>float<span style=\"font-weight: bold\">)</span>\n",
       "station: pomme <span style=\"font-weight: bold\">(</span>str<span style=\"font-weight: bold\">)</span>\n",
       "temperature: <span style=\"color: #008080; text-decoration-color: #008080; font-weight: bold\">17.45000</span> <span style=\"font-weight: bold\">(</span>float<span style=\"font-weight: bold\">)</span>\n",
       "wind: <span style=\"color: #008080; text-decoration-color: #008080; font-weight: bold\">1.95000</span> <span style=\"font-weight: bold\">(</span>float<span style=\"font-weight: bold\">)</span>\n",
       "\n",
       "<span style=\"color: #008080; text-decoration-color: #008080; font-weight: bold\">2</span>. Transformer union\n",
       "--------------------\n",
       "    <span style=\"color: #008080; text-decoration-color: #008080; font-weight: bold\">2.0</span> Select\n",
       "    ----------\n",
       "    clouds: <span style=\"color: #008080; text-decoration-color: #008080; font-weight: bold\">88</span> <span style=\"font-weight: bold\">(</span>int<span style=\"font-weight: bold\">)</span>\n",
       "    humidity: <span style=\"color: #008080; text-decoration-color: #008080; font-weight: bold\">84</span> <span style=\"font-weight: bold\">(</span>int<span style=\"font-weight: bold\">)</span>\n",
       "    pressure: <span style=\"color: #008080; text-decoration-color: #008080; font-weight: bold\">1</span>,<span style=\"color: #008080; text-decoration-color: #008080; font-weight: bold\">017.34000</span> <span style=\"font-weight: bold\">(</span>float<span style=\"font-weight: bold\">)</span>\n",
       "    temperature: <span style=\"color: #008080; text-decoration-color: #008080; font-weight: bold\">17.45000</span> <span style=\"font-weight: bold\">(</span>float<span style=\"font-weight: bold\">)</span>\n",
       "    wind: <span style=\"color: #008080; text-decoration-color: #008080; font-weight: bold\">1.95000</span> <span style=\"font-weight: bold\">(</span>float<span style=\"font-weight: bold\">)</span>\n",
       "\n",
       "    <span style=\"color: #008080; text-decoration-color: #008080; font-weight: bold\">2.1</span> TargetAgg\n",
       "    -------------\n",
       "    y_mean_by_station_and_hour: <span style=\"color: #008080; text-decoration-color: #008080; font-weight: bold\">7.89396</span> <span style=\"font-weight: bold\">(</span>float<span style=\"font-weight: bold\">)</span>\n",
       "\n",
       "    <span style=\"color: #008080; text-decoration-color: #008080; font-weight: bold\">2.2</span> TargetAgg1\n",
       "    --------------\n",
       "    y_ewm_0.5_by_station: <span style=\"color: #008080; text-decoration-color: #008080; font-weight: bold\">11.80372</span> <span style=\"font-weight: bold\">(</span>float<span style=\"font-weight: bold\">)</span>\n",
       "\n",
       "clouds: <span style=\"color: #008080; text-decoration-color: #008080; font-weight: bold\">88</span> <span style=\"font-weight: bold\">(</span>int<span style=\"font-weight: bold\">)</span>\n",
       "humidity: <span style=\"color: #008080; text-decoration-color: #008080; font-weight: bold\">84</span> <span style=\"font-weight: bold\">(</span>int<span style=\"font-weight: bold\">)</span>\n",
       "pressure: <span style=\"color: #008080; text-decoration-color: #008080; font-weight: bold\">1</span>,<span style=\"color: #008080; text-decoration-color: #008080; font-weight: bold\">017.34000</span> <span style=\"font-weight: bold\">(</span>float<span style=\"font-weight: bold\">)</span>\n",
       "temperature: <span style=\"color: #008080; text-decoration-color: #008080; font-weight: bold\">17.45000</span> <span style=\"font-weight: bold\">(</span>float<span style=\"font-weight: bold\">)</span>\n",
       "wind: <span style=\"color: #008080; text-decoration-color: #008080; font-weight: bold\">1.95000</span> <span style=\"font-weight: bold\">(</span>float<span style=\"font-weight: bold\">)</span>\n",
       "y_ewm_0.5_by_station: <span style=\"color: #008080; text-decoration-color: #008080; font-weight: bold\">11.80372</span> <span style=\"font-weight: bold\">(</span>float<span style=\"font-weight: bold\">)</span>\n",
       "y_mean_by_station_and_hour: <span style=\"color: #008080; text-decoration-color: #008080; font-weight: bold\">7.89396</span> <span style=\"font-weight: bold\">(</span>float<span style=\"font-weight: bold\">)</span>\n",
       "\n",
       "<span style=\"color: #008080; text-decoration-color: #008080; font-weight: bold\">3</span>. StandardScaler\n",
       "-----------------\n",
       "clouds: <span style=\"color: #008080; text-decoration-color: #008080; font-weight: bold\">1.54778</span> <span style=\"font-weight: bold\">(</span>float<span style=\"font-weight: bold\">)</span>\n",
       "humidity: <span style=\"color: #008080; text-decoration-color: #008080; font-weight: bold\">1.16366</span> <span style=\"font-weight: bold\">(</span>float<span style=\"font-weight: bold\">)</span>\n",
       "pressure: <span style=\"color: #008080; text-decoration-color: #008080; font-weight: bold\">0.04916</span> <span style=\"font-weight: bold\">(</span>float<span style=\"font-weight: bold\">)</span>\n",
       "temperature: <span style=\"color: #008080; text-decoration-color: #008080; font-weight: bold\">-0.51938</span> <span style=\"font-weight: bold\">(</span>float<span style=\"font-weight: bold\">)</span>\n",
       "wind: <span style=\"color: #008080; text-decoration-color: #008080; font-weight: bold\">-0.69426</span> <span style=\"font-weight: bold\">(</span>float<span style=\"font-weight: bold\">)</span>\n",
       "y_ewm_0.5_by_station: <span style=\"color: #008080; text-decoration-color: #008080; font-weight: bold\">0.19214</span> <span style=\"font-weight: bold\">(</span>float<span style=\"font-weight: bold\">)</span>\n",
       "y_mean_by_station_and_hour: <span style=\"color: #008080; text-decoration-color: #008080; font-weight: bold\">-0.26013</span> <span style=\"font-weight: bold\">(</span>float<span style=\"font-weight: bold\">)</span>\n",
       "\n",
       "<span style=\"color: #008080; text-decoration-color: #008080; font-weight: bold\">4</span>. LinearRegression\n",
       "-------------------\n",
       "Name                         Value      Weight     Contribution  \n",
       "                 Intercept    <span style=\"color: #008080; text-decoration-color: #008080; font-weight: bold\">1.00000</span>    <span style=\"color: #008080; text-decoration-color: #008080; font-weight: bold\">9.22316</span>        <span style=\"color: #008080; text-decoration-color: #008080; font-weight: bold\">9.22316</span>  \n",
       "      y_ewm_0.5_by_station    <span style=\"color: #008080; text-decoration-color: #008080; font-weight: bold\">0.19214</span>    <span style=\"color: #008080; text-decoration-color: #008080; font-weight: bold\">9.26418</span>        <span style=\"color: #008080; text-decoration-color: #008080; font-weight: bold\">1.78000</span>  \n",
       "                  humidity    <span style=\"color: #008080; text-decoration-color: #008080; font-weight: bold\">1.16366</span>    <span style=\"color: #008080; text-decoration-color: #008080; font-weight: bold\">1.01252</span>        <span style=\"color: #008080; text-decoration-color: #008080; font-weight: bold\">1.17823</span>  \n",
       "               temperature   <span style=\"color: #008080; text-decoration-color: #008080; font-weight: bold\">-0.51938</span>   <span style=\"color: #008080; text-decoration-color: #008080; font-weight: bold\">-0.42112</span>        <span style=\"color: #008080; text-decoration-color: #008080; font-weight: bold\">0.21872</span>  \n",
       "                      wind   <span style=\"color: #008080; text-decoration-color: #008080; font-weight: bold\">-0.69426</span>   <span style=\"color: #008080; text-decoration-color: #008080; font-weight: bold\">-0.04088</span>        <span style=\"color: #008080; text-decoration-color: #008080; font-weight: bold\">0.02838</span>  \n",
       "                  pressure    <span style=\"color: #008080; text-decoration-color: #008080; font-weight: bold\">0.04916</span>    <span style=\"color: #008080; text-decoration-color: #008080; font-weight: bold\">0.18137</span>        <span style=\"color: #008080; text-decoration-color: #008080; font-weight: bold\">0.00892</span>  \n",
       "y_mean_by_station_and_hour   <span style=\"color: #008080; text-decoration-color: #008080; font-weight: bold\">-0.26013</span>    <span style=\"color: #008080; text-decoration-color: #008080; font-weight: bold\">0.19801</span>       <span style=\"color: #008080; text-decoration-color: #008080; font-weight: bold\">-0.05151</span>  \n",
       "                    clouds    <span style=\"color: #008080; text-decoration-color: #008080; font-weight: bold\">1.54778</span>   <span style=\"color: #008080; text-decoration-color: #008080; font-weight: bold\">-0.32697</span>       <span style=\"color: #008080; text-decoration-color: #008080; font-weight: bold\">-0.50608</span>  \n",
       "\n",
       "Prediction: <span style=\"color: #008080; text-decoration-color: #008080; font-weight: bold\">11.87982</span>\n",
       "</pre>\n"
      ],
      "text/plain": [
       "\u001b[1;36m0\u001b[0m. Input\n",
       "--------\n",
       "clouds: \u001b[1;36m88\u001b[0m \u001b[1m(\u001b[0mint\u001b[1m)\u001b[0m\n",
       "description: overcast clouds \u001b[1m(\u001b[0mstr\u001b[1m)\u001b[0m\n",
       "humidity: \u001b[1;36m84\u001b[0m \u001b[1m(\u001b[0mint\u001b[1m)\u001b[0m\n",
       "moment: \u001b[1;36m2016\u001b[0m-\u001b[1;36m10\u001b[0m-\u001b[1;36m05\u001b[0m \u001b[1;92m09:57:18\u001b[0m \u001b[1m(\u001b[0mdatetime\u001b[1m)\u001b[0m\n",
       "pressure: \u001b[1;36m1\u001b[0m,\u001b[1;36m017.34000\u001b[0m \u001b[1m(\u001b[0mfloat\u001b[1m)\u001b[0m\n",
       "station: pomme \u001b[1m(\u001b[0mstr\u001b[1m)\u001b[0m\n",
       "temperature: \u001b[1;36m17.45000\u001b[0m \u001b[1m(\u001b[0mfloat\u001b[1m)\u001b[0m\n",
       "wind: \u001b[1;36m1.95000\u001b[0m \u001b[1m(\u001b[0mfloat\u001b[1m)\u001b[0m\n",
       "\n",
       "\u001b[1;36m1\u001b[0m. add_time_features\n",
       "--------------------\n",
       "clouds: \u001b[1;36m88\u001b[0m \u001b[1m(\u001b[0mint\u001b[1m)\u001b[0m\n",
       "day: \u001b[1;36m2\u001b[0m \u001b[1m(\u001b[0mint\u001b[1m)\u001b[0m\n",
       "description: overcast clouds \u001b[1m(\u001b[0mstr\u001b[1m)\u001b[0m\n",
       "hour: \u001b[1;36m9\u001b[0m \u001b[1m(\u001b[0mint\u001b[1m)\u001b[0m\n",
       "humidity: \u001b[1;36m84\u001b[0m \u001b[1m(\u001b[0mint\u001b[1m)\u001b[0m\n",
       "moment: \u001b[1;36m2016\u001b[0m-\u001b[1;36m10\u001b[0m-\u001b[1;36m05\u001b[0m \u001b[1;92m09:57:18\u001b[0m \u001b[1m(\u001b[0mdatetime\u001b[1m)\u001b[0m\n",
       "pressure: \u001b[1;36m1\u001b[0m,\u001b[1;36m017.34000\u001b[0m \u001b[1m(\u001b[0mfloat\u001b[1m)\u001b[0m\n",
       "station: pomme \u001b[1m(\u001b[0mstr\u001b[1m)\u001b[0m\n",
       "temperature: \u001b[1;36m17.45000\u001b[0m \u001b[1m(\u001b[0mfloat\u001b[1m)\u001b[0m\n",
       "wind: \u001b[1;36m1.95000\u001b[0m \u001b[1m(\u001b[0mfloat\u001b[1m)\u001b[0m\n",
       "\n",
       "\u001b[1;36m2\u001b[0m. Transformer union\n",
       "--------------------\n",
       "    \u001b[1;36m2.0\u001b[0m Select\n",
       "    ----------\n",
       "    clouds: \u001b[1;36m88\u001b[0m \u001b[1m(\u001b[0mint\u001b[1m)\u001b[0m\n",
       "    humidity: \u001b[1;36m84\u001b[0m \u001b[1m(\u001b[0mint\u001b[1m)\u001b[0m\n",
       "    pressure: \u001b[1;36m1\u001b[0m,\u001b[1;36m017.34000\u001b[0m \u001b[1m(\u001b[0mfloat\u001b[1m)\u001b[0m\n",
       "    temperature: \u001b[1;36m17.45000\u001b[0m \u001b[1m(\u001b[0mfloat\u001b[1m)\u001b[0m\n",
       "    wind: \u001b[1;36m1.95000\u001b[0m \u001b[1m(\u001b[0mfloat\u001b[1m)\u001b[0m\n",
       "\n",
       "    \u001b[1;36m2.1\u001b[0m TargetAgg\n",
       "    -------------\n",
       "    y_mean_by_station_and_hour: \u001b[1;36m7.89396\u001b[0m \u001b[1m(\u001b[0mfloat\u001b[1m)\u001b[0m\n",
       "\n",
       "    \u001b[1;36m2.2\u001b[0m TargetAgg1\n",
       "    --------------\n",
       "    y_ewm_0.5_by_station: \u001b[1;36m11.80372\u001b[0m \u001b[1m(\u001b[0mfloat\u001b[1m)\u001b[0m\n",
       "\n",
       "clouds: \u001b[1;36m88\u001b[0m \u001b[1m(\u001b[0mint\u001b[1m)\u001b[0m\n",
       "humidity: \u001b[1;36m84\u001b[0m \u001b[1m(\u001b[0mint\u001b[1m)\u001b[0m\n",
       "pressure: \u001b[1;36m1\u001b[0m,\u001b[1;36m017.34000\u001b[0m \u001b[1m(\u001b[0mfloat\u001b[1m)\u001b[0m\n",
       "temperature: \u001b[1;36m17.45000\u001b[0m \u001b[1m(\u001b[0mfloat\u001b[1m)\u001b[0m\n",
       "wind: \u001b[1;36m1.95000\u001b[0m \u001b[1m(\u001b[0mfloat\u001b[1m)\u001b[0m\n",
       "y_ewm_0.5_by_station: \u001b[1;36m11.80372\u001b[0m \u001b[1m(\u001b[0mfloat\u001b[1m)\u001b[0m\n",
       "y_mean_by_station_and_hour: \u001b[1;36m7.89396\u001b[0m \u001b[1m(\u001b[0mfloat\u001b[1m)\u001b[0m\n",
       "\n",
       "\u001b[1;36m3\u001b[0m. StandardScaler\n",
       "-----------------\n",
       "clouds: \u001b[1;36m1.54778\u001b[0m \u001b[1m(\u001b[0mfloat\u001b[1m)\u001b[0m\n",
       "humidity: \u001b[1;36m1.16366\u001b[0m \u001b[1m(\u001b[0mfloat\u001b[1m)\u001b[0m\n",
       "pressure: \u001b[1;36m0.04916\u001b[0m \u001b[1m(\u001b[0mfloat\u001b[1m)\u001b[0m\n",
       "temperature: \u001b[1;36m-0.51938\u001b[0m \u001b[1m(\u001b[0mfloat\u001b[1m)\u001b[0m\n",
       "wind: \u001b[1;36m-0.69426\u001b[0m \u001b[1m(\u001b[0mfloat\u001b[1m)\u001b[0m\n",
       "y_ewm_0.5_by_station: \u001b[1;36m0.19214\u001b[0m \u001b[1m(\u001b[0mfloat\u001b[1m)\u001b[0m\n",
       "y_mean_by_station_and_hour: \u001b[1;36m-0.26013\u001b[0m \u001b[1m(\u001b[0mfloat\u001b[1m)\u001b[0m\n",
       "\n",
       "\u001b[1;36m4\u001b[0m. LinearRegression\n",
       "-------------------\n",
       "Name                         Value      Weight     Contribution  \n",
       "                 Intercept    \u001b[1;36m1.00000\u001b[0m    \u001b[1;36m9.22316\u001b[0m        \u001b[1;36m9.22316\u001b[0m  \n",
       "      y_ewm_0.5_by_station    \u001b[1;36m0.19214\u001b[0m    \u001b[1;36m9.26418\u001b[0m        \u001b[1;36m1.78000\u001b[0m  \n",
       "                  humidity    \u001b[1;36m1.16366\u001b[0m    \u001b[1;36m1.01252\u001b[0m        \u001b[1;36m1.17823\u001b[0m  \n",
       "               temperature   \u001b[1;36m-0.51938\u001b[0m   \u001b[1;36m-0.42112\u001b[0m        \u001b[1;36m0.21872\u001b[0m  \n",
       "                      wind   \u001b[1;36m-0.69426\u001b[0m   \u001b[1;36m-0.04088\u001b[0m        \u001b[1;36m0.02838\u001b[0m  \n",
       "                  pressure    \u001b[1;36m0.04916\u001b[0m    \u001b[1;36m0.18137\u001b[0m        \u001b[1;36m0.00892\u001b[0m  \n",
       "y_mean_by_station_and_hour   \u001b[1;36m-0.26013\u001b[0m    \u001b[1;36m0.19801\u001b[0m       \u001b[1;36m-0.05151\u001b[0m  \n",
       "                    clouds    \u001b[1;36m1.54778\u001b[0m   \u001b[1;36m-0.32697\u001b[0m       \u001b[1;36m-0.50608\u001b[0m  \n",
       "\n",
       "Prediction: \u001b[1;36m11.87982\u001b[0m\n"
      ]
     },
     "metadata": {},
     "output_type": "display_data"
    }
   ],
   "source": [
    "print(model.debug_one(x))"
   ]
  },
  {
   "cell_type": "markdown",
   "metadata": {},
   "source": [
    "The pipeline does quite a few things, but using `debug_one` shows what happens step by step. This is really useful for checking that the pipeline is behaving as you're expecting it too. Remember that you can `debug_one` whenever you wish, be it before, during, or after training a model."
   ]
  }
 ],
 "metadata": {
  "kernelspec": {
   "display_name": "Python 3",
   "language": "python",
   "name": "python3"
  },
  "language_info": {
   "codemirror_mode": {
    "name": "ipython",
    "version": 3
   },
   "file_extension": ".py",
   "mimetype": "text/x-python",
   "name": "python",
   "nbconvert_exporter": "python",
   "pygments_lexer": "ipython3",
   "version": "3.9.12"
  }
 },
 "nbformat": 4,
 "nbformat_minor": 4
}
