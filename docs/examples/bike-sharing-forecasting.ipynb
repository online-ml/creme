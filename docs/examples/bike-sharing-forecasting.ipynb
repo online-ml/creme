{
 "cells": [
  {
   "cell_type": "markdown",
   "metadata": {},
   "source": [
    "# Bike-sharing forecasting"
   ]
  },
  {
   "cell_type": "code",
   "execution_count": 1,
   "metadata": {},
   "outputs": [],
   "source": [
    "%load_ext autoreload\n",
    "%autoreload 2"
   ]
  },
  {
   "cell_type": "markdown",
   "metadata": {},
   "source": [
    "In this tutorial we're going to forecast the number of bikes in 5 bike stations from the city of Toulouse. We'll do so by building a simple model step by step. The dataset contains 182,470 observations. Let's first take a peak at the data."
   ]
  },
  {
   "cell_type": "code",
   "execution_count": 3,
   "metadata": {
    "execution": {
     "iopub.execute_input": "2022-05-28T14:05:24.077796Z",
     "iopub.status.busy": "2022-05-28T14:05:24.076703Z",
     "iopub.status.idle": "2022-05-28T14:05:25.345784Z",
     "shell.execute_reply": "2022-05-28T14:05:25.346198Z"
    },
    "tags": []
   },
   "outputs": [
    {
     "name": "stdout",
     "output_type": "stream",
     "text": [
      "{'clouds': 75,\n",
      " 'description': 'light rain',\n",
      " 'humidity': 81,\n",
      " 'moment': datetime.datetime(2016, 4, 1, 0, 0, 7),\n",
      " 'pressure': 1017.0,\n",
      " 'station': 'metro-canal-du-midi',\n",
      " 'temperature': 6.54,\n",
      " 'wind': 9.3}\n",
      "Number of available bikes: 1\n"
     ]
    }
   ],
   "source": [
    "from pprint import pprint\n",
    "from river import datasets\n",
    "\n",
    "dataset = datasets.Bikes()\n",
    "\n",
    "for x, y in dataset:\n",
    "    pprint(x)\n",
    "    print(f'Number of available bikes: {y}')\n",
    "    break"
   ]
  },
  {
   "cell_type": "markdown",
   "metadata": {},
   "source": [
    "Let's start by using a simple linear regression on the numeric features. We can select the numeric features and discard the rest of the features using a `Select`. Linear regression is very likely to go haywire if we don't scale the data, so we'll use a `StandardScaler` to do just that. We'll evaluate the model by measuring the mean absolute error. Finally we'll print the score every 20,000 observations. "
   ]
  },
  {
   "cell_type": "code",
   "execution_count": 4,
   "metadata": {
    "execution": {
     "iopub.execute_input": "2022-05-28T14:05:25.354113Z",
     "iopub.status.busy": "2022-05-28T14:05:25.353408Z",
     "iopub.status.idle": "2022-05-28T14:05:40.089268Z",
     "shell.execute_reply": "2022-05-28T14:05:40.089732Z"
    },
    "tags": []
   },
   "outputs": [
    {
     "name": "stdout",
     "output_type": "stream",
     "text": [
      "[20,000] MAE: 4.912727\n",
      "[40,000] MAE: 5.333554\n",
      "[60,000] MAE: 5.330948\n",
      "[80,000] MAE: 5.392313\n",
      "[100,000] MAE: 5.423059\n",
      "[120,000] MAE: 5.541223\n",
      "[140,000] MAE: 5.613023\n",
      "[160,000] MAE: 5.622428\n",
      "[180,000] MAE: 5.567824\n"
     ]
    },
    {
     "data": {
      "text/plain": [
       "MAE: 5.563893"
      ]
     },
     "execution_count": 4,
     "metadata": {},
     "output_type": "execute_result"
    }
   ],
   "source": [
    "from river import compose\n",
    "from river import linear_model\n",
    "from river import metrics\n",
    "from river import evaluate\n",
    "from river import preprocessing\n",
    "from river import optim\n",
    "\n",
    "model = compose.Select('clouds', 'humidity', 'pressure', 'temperature', 'wind')\n",
    "model |= preprocessing.StandardScaler()\n",
    "model |= linear_model.LinearRegression(optimizer=optim.SGD(0.001))\n",
    "\n",
    "metric = metrics.MAE()\n",
    "\n",
    "evaluate.progressive_val_score(dataset, model, metric, print_every=20_000)"
   ]
  },
  {
   "cell_type": "markdown",
   "metadata": {},
   "source": [
    "The model doesn't seem to be doing that well, but then again we didn't provide a lot of features. Generally, a good idea for this kind of problem is to look at an average of the previous values. For example, for each station we can look at the average number of bikes per hour. To do so we first have to extract the hour from the  `moment` field. We can then use a `TargetAgg` to aggregate the values of the target."
   ]
  },
  {
   "cell_type": "code",
   "execution_count": 18,
   "metadata": {
    "execution": {
     "iopub.execute_input": "2022-05-28T14:05:40.095575Z",
     "iopub.status.busy": "2022-05-28T14:05:40.095020Z",
     "iopub.status.idle": "2022-05-28T14:06:01.962546Z",
     "shell.execute_reply": "2022-05-28T14:06:01.963008Z"
    },
    "tags": []
   },
   "outputs": [
    {
     "name": "stdout",
     "output_type": "stream",
     "text": [
      "[20,000] MAE: 3.721246\n",
      "[40,000] MAE: 3.829972\n",
      "[60,000] MAE: 3.845068\n",
      "[80,000] MAE: 3.910259\n",
      "[100,000] MAE: 3.888652\n",
      "[120,000] MAE: 3.923727\n",
      "[140,000] MAE: 3.980953\n",
      "[160,000] MAE: 3.950034\n",
      "[180,000] MAE: 3.934545\n"
     ]
    },
    {
     "data": {
      "text/plain": [
       "MAE: 3.933498"
      ]
     },
     "execution_count": 18,
     "metadata": {},
     "output_type": "execute_result"
    }
   ],
   "source": [
    "from river import feature_extraction\n",
    "from river import stats\n",
    "\n",
    "def get_hour(x):\n",
    "    x['hour'] = x['moment'].hour\n",
    "    return x\n",
    "\n",
    "model = compose.Select('clouds', 'humidity', 'pressure', 'temperature', 'wind')\n",
    "model += (\n",
    "    get_hour |\n",
    "    feature_extraction.TargetAgg(by=['station', 'hour'], how=stats.Mean())\n",
    ")\n",
    "model |= preprocessing.StandardScaler()\n",
    "model |= linear_model.LinearRegression(optimizer=optim.SGD(0.001))\n",
    "\n",
    "metric = metrics.MAE()\n",
    "\n",
    "evaluate.progressive_val_score(dataset, model, metric, print_every=20_000)"
   ]
  },
  {
   "cell_type": "markdown",
   "metadata": {},
   "source": [
    "By adding a single feature, we've managed to significantly reduce the mean absolute error. At this point you might think that the model is getting slightly complex, and is difficult to understand and test. Pipelines have the advantage of being terse, but they aren't always to debug. Thankfully `river` has some ways to relieve the pain.\n",
    "\n",
    "The first thing we can do it to visualize the pipeline, to get an idea of how the data flows through it."
   ]
  },
  {
   "cell_type": "code",
   "execution_count": 4,
   "metadata": {
    "execution": {
     "iopub.execute_input": "2022-05-28T14:06:01.967455Z",
     "iopub.status.busy": "2022-05-28T14:06:01.966929Z",
     "iopub.status.idle": "2022-05-28T14:06:01.973952Z",
     "shell.execute_reply": "2022-05-28T14:06:01.974414Z"
    },
    "tags": []
   },
   "outputs": [
    {
     "data": {
      "text/html": [
       "<div><div class=\"component pipeline\"><div class=\"component union\"><details class=\"component estimator\"><summary><pre class=\"estimator-name\">['clouds', 'humidity', 'pressure', 'temperature', 'wind']</pre></summary><code class=\"estimator-params\">\n",
       "{'keys': {'wind', 'humidity', 'temperature', 'clouds', 'pressure'}}\n",
       "\n",
       "</code></details><div class=\"component pipeline\"><details class=\"component estimator\"><summary><pre class=\"estimator-name\">get_hour</pre></summary><code class=\"estimator-params\">\n",
       "def get_hour(x):\n",
       "    x['hour'] = x['moment'].hour\n",
       "    return x\n",
       "\n",
       "</code></details><details class=\"component estimator\"><summary><pre class=\"estimator-name\">y_mean_by_station_and_hour</pre></summary><code class=\"estimator-params\">\n",
       "{'_feature_name': 'y_mean_by_station_and_hour',\n",
       " '_groups': defaultdict(functools.partial(&lt;function deepcopy at 0x7fd9871cb4c0&gt;, Mean: 0.),\n",
       "                        {('metro-canal-du-midi', 0): Mean: 7.93981,\n",
       "                         ('metro-canal-du-midi', 1): Mean: 8.179704,\n",
       "                         ('metro-canal-du-midi', 2): Mean: 8.35824,\n",
       "                         ('metro-canal-du-midi', 3): Mean: 8.656051,\n",
       "                         ('metro-canal-du-midi', 4): Mean: 8.868445,\n",
       "                         ('metro-canal-du-midi', 5): Mean: 8.99656,\n",
       "                         ('metro-canal-du-midi', 6): Mean: 9.09966,\n",
       "                         ('metro-canal-du-midi', 7): Mean: 8.852642,\n",
       "                         ('metro-canal-du-midi', 8): Mean: 12.66712,\n",
       "                         ('metro-canal-du-midi', 9): Mean: 13.412186,\n",
       "                         ('metro-canal-du-midi', 10): Mean: 12.486815,\n",
       "                         ('metro-canal-du-midi', 11): Mean: 11.675479,\n",
       "                         ('metro-canal-du-midi', 12): Mean: 10.197409,\n",
       "                         ('metro-canal-du-midi', 13): Mean: 10.650855,\n",
       "                         ('metro-canal-du-midi', 14): Mean: 11.109123,\n",
       "                         ('metro-canal-du-midi', 15): Mean: 11.068934,\n",
       "                         ('metro-canal-du-midi', 16): Mean: 11.274958,\n",
       "                         ('metro-canal-du-midi', 17): Mean: 8.459136,\n",
       "                         ('metro-canal-du-midi', 18): Mean: 7.587469,\n",
       "                         ('metro-canal-du-midi', 19): Mean: 7.734677,\n",
       "                         ('metro-canal-du-midi', 20): Mean: 7.582465,\n",
       "                         ('metro-canal-du-midi', 21): Mean: 7.190665,\n",
       "                         ('metro-canal-du-midi', 22): Mean: 7.486895,\n",
       "                         ('metro-canal-du-midi', 23): Mean: 7.840791,\n",
       "                         ('place-des-carmes', 0): Mean: 4.720696,\n",
       "                         ('place-des-carmes', 1): Mean: 3.390295,\n",
       "                         ('place-des-carmes', 2): Mean: 2.232181,\n",
       "                         ('place-des-carmes', 3): Mean: 1.371981,\n",
       "                         ('place-des-carmes', 4): Mean: 1.051665,\n",
       "                         ('place-des-carmes', 5): Mean: 0.984993,\n",
       "                         ('place-des-carmes', 6): Mean: 2.039947,\n",
       "                         ('place-des-carmes', 7): Mean: 3.850369,\n",
       "                         ('place-des-carmes', 8): Mean: 3.792624,\n",
       "                         ('place-des-carmes', 9): Mean: 5.957182,\n",
       "                         ('place-des-carmes', 10): Mean: 8.575303,\n",
       "                         ('place-des-carmes', 11): Mean: 9.321546,\n",
       "                         ('place-des-carmes', 12): Mean: 10.511931,\n",
       "                         ('place-des-carmes', 13): Mean: 11.392745,\n",
       "                         ('place-des-carmes', 14): Mean: 10.735003,\n",
       "                         ('place-des-carmes', 15): Mean: 10.198787,\n",
       "                         ('place-des-carmes', 16): Mean: 9.941479,\n",
       "                         ('place-des-carmes', 17): Mean: 9.125579,\n",
       "                         ('place-des-carmes', 18): Mean: 7.660775,\n",
       "                         ('place-des-carmes', 19): Mean: 6.847649,\n",
       "                         ('place-des-carmes', 20): Mean: 9.626876,\n",
       "                         ('place-des-carmes', 21): Mean: 11.602929,\n",
       "                         ('place-des-carmes', 22): Mean: 10.405537,\n",
       "                         ('place-des-carmes', 23): Mean: 7.700904,\n",
       "                         ('place-esquirol', 0): Mean: 7.415789,\n",
       "                         ('place-esquirol', 1): Mean: 5.244396,\n",
       "                         ('place-esquirol', 2): Mean: 2.858635,\n",
       "                         ('place-esquirol', 3): Mean: 1.155929,\n",
       "                         ('place-esquirol', 4): Mean: 0.73306,\n",
       "                         ('place-esquirol', 5): Mean: 0.668546,\n",
       "                         ('place-esquirol', 6): Mean: 1.21265,\n",
       "                         ('place-esquirol', 7): Mean: 3.107535,\n",
       "                         ('place-esquirol', 8): Mean: 8.518696,\n",
       "                         ('place-esquirol', 9): Mean: 15.470588,\n",
       "                         ('place-esquirol', 10): Mean: 19.465005,\n",
       "                         ('place-esquirol', 11): Mean: 22.976512,\n",
       "                         ('place-esquirol', 12): Mean: 25.324159,\n",
       "                         ('place-esquirol', 13): Mean: 25.428847,\n",
       "                         ('place-esquirol', 14): Mean: 24.57762,\n",
       "                         ('place-esquirol', 15): Mean: 24.416851,\n",
       "                         ('place-esquirol', 16): Mean: 23.555125,\n",
       "                         ('place-esquirol', 17): Mean: 22.062564,\n",
       "                         ('place-esquirol', 18): Mean: 18.10623,\n",
       "                         ('place-esquirol', 19): Mean: 11.916638,\n",
       "                         ('place-esquirol', 20): Mean: 13.346362,\n",
       "                         ('place-esquirol', 21): Mean: 16.743318,\n",
       "                         ('place-esquirol', 22): Mean: 15.562088,\n",
       "                         ('place-esquirol', 23): Mean: 10.911134,\n",
       "                         ('place-jeanne-darc', 0): Mean: 6.541667,\n",
       "                         ('place-jeanne-darc', 1): Mean: 5.99892,\n",
       "                         ('place-jeanne-darc', 2): Mean: 5.598169,\n",
       "                         ('place-jeanne-darc', 3): Mean: 5.180556,\n",
       "                         ('place-jeanne-darc', 4): Mean: 4.779626,\n",
       "                         ('place-jeanne-darc', 5): Mean: 4.67063,\n",
       "                         ('place-jeanne-darc', 6): Mean: 4.611995,\n",
       "                         ('place-jeanne-darc', 7): Mean: 4.960718,\n",
       "                         ('place-jeanne-darc', 8): Mean: 5.552273,\n",
       "                         ('place-jeanne-darc', 9): Mean: 6.249573,\n",
       "                         ('place-jeanne-darc', 10): Mean: 5.735553,\n",
       "                         ('place-jeanne-darc', 11): Mean: 5.616142,\n",
       "                         ('place-jeanne-darc', 12): Mean: 5.787478,\n",
       "                         ('place-jeanne-darc', 13): Mean: 5.817699,\n",
       "                         ('place-jeanne-darc', 14): Mean: 5.657546,\n",
       "                         ('place-jeanne-darc', 15): Mean: 6.224604,\n",
       "                         ('place-jeanne-darc', 16): Mean: 5.796141,\n",
       "                         ('place-jeanne-darc', 17): Mean: 5.743089,\n",
       "                         ('place-jeanne-darc', 18): Mean: 5.674784,\n",
       "                         ('place-jeanne-darc', 19): Mean: 5.833068,\n",
       "                         ('place-jeanne-darc', 20): Mean: 6.015755,\n",
       "                         ('place-jeanne-darc', 21): Mean: 6.242541,\n",
       "                         ('place-jeanne-darc', 22): Mean: 6.141509,\n",
       "                         ('place-jeanne-darc', 23): Mean: 6.493028,\n",
       "                         ('pomme', 0): Mean: 3.301532,\n",
       "                         ('pomme', 1): Mean: 2.312914,\n",
       "                         ('pomme', 2): Mean: 2.144453,\n",
       "                         ('pomme', 3): Mean: 1.563622,\n",
       "                         ('pomme', 4): Mean: 0.947328,\n",
       "                         ('pomme', 5): Mean: 0.924175,\n",
       "                         ('pomme', 6): Mean: 1.287805,\n",
       "                         ('pomme', 7): Mean: 1.299456,\n",
       "                         ('pomme', 8): Mean: 2.94988,\n",
       "                         ('pomme', 9): Mean: 7.89396,\n",
       "                         ('pomme', 10): Mean: 11.791436,\n",
       "                         ('pomme', 11): Mean: 12.976854,\n",
       "                         ('pomme', 12): Mean: 13.962654,\n",
       "                         ('pomme', 13): Mean: 11.692257,\n",
       "                         ('pomme', 14): Mean: 11.180851,\n",
       "                         ('pomme', 15): Mean: 11.939586,\n",
       "                         ('pomme', 16): Mean: 12.267051,\n",
       "                         ('pomme', 17): Mean: 12.132993,\n",
       "                         ('pomme', 18): Mean: 11.399108,\n",
       "                         ('pomme', 19): Mean: 6.37021,\n",
       "                         ('pomme', 20): Mean: 5.279234,\n",
       "                         ('pomme', 21): Mean: 6.254257,\n",
       "                         ('pomme', 22): Mean: 6.568678,\n",
       "                         ('pomme', 23): Mean: 5.235756}),\n",
       " 'by': ['station', 'hour'],\n",
       " 'how': Mean: 0.,\n",
       " 'on': 'y'}\n",
       "\n",
       "</code></details></div></div><details class=\"component estimator\"><summary><pre class=\"estimator-name\">StandardScaler</pre></summary><code class=\"estimator-params\">\n",
       "{'counts': Counter({'y_mean_by_station_and_hour': 182470,\n",
       "                    'wind': 182470,\n",
       "                    'humidity': 182470,\n",
       "                    'temperature': 182470,\n",
       "                    'clouds': 182470,\n",
       "                    'pressure': 182470}),\n",
       " 'means': defaultdict(&lt;class 'float'&gt;,\n",
       "                      {'clouds': 30.315131254453505,\n",
       "                       'humidity': 62.24244533347998,\n",
       "                       'pressure': 1017.0563060996391,\n",
       "                       'temperature': 20.50980692716619,\n",
       "                       'wind': 3.4184331122924543,\n",
       "                       'y_mean_by_station_and_hour': 9.468200635816528}),\n",
       " 'vars': defaultdict(&lt;class 'float'&gt;,\n",
       "                     {'clouds': 1389.0025610928221,\n",
       "                      'humidity': 349.59967918503554,\n",
       "                      'pressure': 33.298307526514115,\n",
       "                      'temperature': 34.70701720774977,\n",
       "                      'wind': 4.473627075744674,\n",
       "                      'y_mean_by_station_and_hour': 33.720872727055365}),\n",
       " 'with_std': True}\n",
       "\n",
       "</code></details><details class=\"component estimator\"><summary><pre class=\"estimator-name\">LinearRegression</pre></summary><code class=\"estimator-params\">\n",
       "{'_weights': {'y_mean_by_station_and_hour': 3.8719218238428725, 'wind': -0.2612193604527138, 'humidity': 3.8817929874945234, 'temperature': -2.795077764828726, 'clouds': -0.6106470619450345, 'pressure': 2.148194846809032},\n",
       " '_y_name': None,\n",
       " 'clip_gradient': 1000000000000.0,\n",
       " 'initializer': Zeros (),\n",
       " 'intercept': 6.096564954881431,\n",
       " 'intercept_init': 0.0,\n",
       " 'intercept_lr': Constant({'learning_rate': 0.01}),\n",
       " 'l2': 0.0,\n",
       " 'loss': Squared({}),\n",
       " 'optimizer': SGD({'lr': Constant({'learning_rate': 0.001}), 'n_iterations': 182470})}\n",
       "\n",
       "</code></details></div><style scoped>\n",
       ".estimator {\n",
       "    padding: 1em;\n",
       "    border-style: solid;\n",
       "    background: white;\n",
       "}\n",
       "\n",
       ".pipeline {\n",
       "    display: flex;\n",
       "    flex-direction: column;\n",
       "    align-items: center;\n",
       "    background: linear-gradient(#000, #000) no-repeat center / 3px 100%;\n",
       "}\n",
       "\n",
       ".union {\n",
       "    display: flex;\n",
       "    flex-direction: row;\n",
       "    align-items: center;\n",
       "    justify-content: center;\n",
       "    padding: 1em;\n",
       "    border-style: solid;\n",
       "    background: white\n",
       "}\n",
       "\n",
       ".wrapper {\n",
       "    display: flex;\n",
       "    flex-direction: column;\n",
       "    align-items: center;\n",
       "    justify-content: center;\n",
       "    padding: 1em;\n",
       "    border-style: solid;\n",
       "    background: white;\n",
       "}\n",
       "\n",
       ".wrapper > .estimator {\n",
       "    margin-top: 1em;\n",
       "}\n",
       "\n",
       "/* Vertical spacing between steps */\n",
       "\n",
       ".component + .component {\n",
       "    margin-top: 2em;\n",
       "}\n",
       "\n",
       ".union > .estimator {\n",
       "    margin-top: 0;\n",
       "}\n",
       "\n",
       ".union > .pipeline {\n",
       "    margin-top: 0;\n",
       "}\n",
       "\n",
       "/* Spacing within a union of estimators */\n",
       "\n",
       ".union > .component + .component {\n",
       "    margin-left: 1em;\n",
       "}\n",
       "\n",
       "/* Typography */\n",
       "\n",
       ".estimator-params {\n",
       "    display: block;\n",
       "    white-space: pre-wrap;\n",
       "    font-size: 120%;\n",
       "    margin-bottom: -1em;\n",
       "}\n",
       "\n",
       ".estimator > code,\n",
       ".wrapper > details > code {\n",
       "    background-color: white !important;\n",
       "}\n",
       "\n",
       ".estimator-name {\n",
       "    display: inline;\n",
       "    margin: 0;\n",
       "    font-size: 130%;\n",
       "}\n",
       "\n",
       "/* Toggle */\n",
       "\n",
       "summary {\n",
       "    display: flex;\n",
       "    align-items:center;\n",
       "    cursor: pointer;\n",
       "}\n",
       "\n",
       "summary > div {\n",
       "    width: 100%;\n",
       "}\n",
       "</style></div>"
      ],
      "text/plain": [
       "Pipeline (\n",
       "  TransformerUnion (\n",
       "    Select (\n",
       "      clouds\n",
       "      humidity\n",
       "      pressure\n",
       "      temperature\n",
       "      wind\n",
       "    ),\n",
       "    Pipeline (\n",
       "      FuncTransformer (\n",
       "        func=\"get_hour\"\n",
       "      ),\n",
       "      TargetAgg (\n",
       "        by=['station', 'hour']\n",
       "        how=Mean ()\n",
       "        target_name=\"y\"\n",
       "      )\n",
       "    )\n",
       "  ),\n",
       "  StandardScaler (\n",
       "    with_std=True\n",
       "  ),\n",
       "  LinearRegression (\n",
       "    optimizer=SGD (\n",
       "      lr=Constant (\n",
       "        learning_rate=0.001\n",
       "      )\n",
       "    )\n",
       "    loss=Squared ()\n",
       "    l2=0.\n",
       "    intercept_init=0.\n",
       "    intercept_lr=Constant (\n",
       "      learning_rate=0.01\n",
       "    )\n",
       "    clip_gradient=1e+12\n",
       "    initializer=Zeros ()\n",
       "  )\n",
       ")"
      ]
     },
     "execution_count": 4,
     "metadata": {},
     "output_type": "execute_result"
    }
   ],
   "source": [
    "model"
   ]
  },
  {
   "cell_type": "markdown",
   "metadata": {},
   "source": [
    "We can also use the `debug_one` method to see what happens to one particular instance. Let's train the model on the first 10,000 observations and then call `debug_one` on the next one. To do this, we will turn the `Bike` object into a Python generator with `iter()` function. The Pythonic way to read the first 10,000 elements of a generator is to use `itertools.islice`."
   ]
  },
  {
   "cell_type": "code",
   "execution_count": 17,
   "metadata": {
    "execution": {
     "iopub.execute_input": "2022-05-28T14:06:01.979788Z",
     "iopub.status.busy": "2022-05-28T14:06:01.979231Z",
     "iopub.status.idle": "2022-05-28T14:06:02.883775Z",
     "shell.execute_reply": "2022-05-28T14:06:02.884330Z"
    },
    "tags": []
   },
   "outputs": [
    {
     "name": "stdout",
     "output_type": "stream",
     "text": [
      "0. Input\n",
      "--------\n",
      "clouds: 75 (int)\n",
      "description: light rain (str)\n",
      "humidity: 81 (int)\n",
      "moment: 2016-04-01 00:00:07 (datetime)\n",
      "pressure: 1,017.00000 (float)\n",
      "station: metro-canal-du-midi (str)\n",
      "temperature: 6.54000 (float)\n",
      "wind: 9.30000 (float)\n",
      "\n",
      "1. Transformer union\n",
      "--------------------\n",
      "    1.0 Select\n",
      "    ----------\n",
      "    clouds: 75 (int)\n",
      "    humidity: 81 (int)\n",
      "    pressure: 1,017.00000 (float)\n",
      "    temperature: 6.54000 (float)\n",
      "    wind: 9.30000 (float)\n",
      "\n",
      "    1.1 get_hour | y_mean_by_station_and_hour\n",
      "    -----------------------------------------\n",
      "    y_mean_by_station_and_hour: 4.43243 (float)\n",
      "\n",
      "clouds: 75 (int)\n",
      "humidity: 81 (int)\n",
      "pressure: 1,017.00000 (float)\n",
      "temperature: 6.54000 (float)\n",
      "wind: 9.30000 (float)\n",
      "y_mean_by_station_and_hour: 4.43243 (float)\n",
      "\n",
      "2. StandardScaler\n",
      "-----------------\n",
      "clouds: 0.47566 (float)\n",
      "humidity: 0.42247 (float)\n",
      "pressure: 1.05314 (float)\n",
      "temperature: -1.22098 (float)\n",
      "wind: 2.21104 (float)\n",
      "y_mean_by_station_and_hour: -0.59098 (float)\n",
      "\n",
      "3. LinearRegression\n",
      "-------------------\n",
      "Name                         Value      Weight     Contribution  \n",
      "                 Intercept    1.00000    6.58252        6.58252  \n",
      "                  pressure    1.05314    3.78529        3.98646  \n",
      "                  humidity    0.42247    1.44921        0.61225  \n",
      "y_mean_by_station_and_hour   -0.59098    0.54167       -0.32011  \n",
      "                    clouds    0.47566   -1.92255       -0.91448  \n",
      "                      wind    2.21104   -0.77720       -1.71843  \n",
      "               temperature   -1.22098    2.47030       -3.01619  \n",
      "\n",
      "Prediction: 5.21201\n"
     ]
    }
   ],
   "source": [
    "import itertools\n",
    "\n",
    "model = compose.Select('clouds', 'humidity', 'pressure', 'temperature', 'wind')\n",
    "model += (\n",
    "    get_hour |\n",
    "    feature_extraction.TargetAgg(by=['station', 'hour'], how=stats.Mean())\n",
    ")\n",
    "model |= preprocessing.StandardScaler()\n",
    "model |= linear_model.LinearRegression()\n",
    "\n",
    "for x, y in itertools.islice(dataset, 10000):\n",
    "    y_pred = model.predict_one(x)\n",
    "    model.learn_one(x, y)\n",
    "    \n",
    "x, y = next(iter(dataset))\n",
    "print(model.debug_one(x))"
   ]
  },
  {
   "cell_type": "markdown",
   "metadata": {},
   "source": [
    "The `debug_one` method shows what happens to an input set of features, step by step.\n",
    "\n",
    "And now comes the catch. Up until now we've been using the `progressive_val_score` method from the `evaluate` module. What this does it that it sequentially predicts the output of an observation and updates the model immediately afterwards. This way of proceeding is often used for evaluating online learning models. But in some cases it is the wrong approach.\n",
    "\n",
    "When evaluating a machine learning model, the goal is to simulate production conditions in order to get a trust-worthy assessment of the performance of the model. In our case, we typically want to forecast the number of bikes available in a station, say, 30 minutes ahead. Then, once the 30 minutes have passed, the true number of available bikes will be available and we will be able to update the model using the features available 30 minutes ago.\n",
    "\n",
    "What we really want is to evaluate the model by forecasting 30 minutes ahead and only updating the model once the true values are available. This can be done using the `moment` and `delay` parameters in the  `progressive_val_score` method. The idea is that each observation in the stream of the data is shown twice to the model: once for making a prediction, and once for updating the model when the true value is revealed. The `moment` parameter determines which variable should be used as a timestamp, while the `delay` parameter controls the duration to wait before revealing the true values to the model."
   ]
  },
  {
   "cell_type": "code",
   "execution_count": 19,
   "metadata": {
    "execution": {
     "iopub.execute_input": "2022-05-28T14:06:29.204765Z",
     "iopub.status.busy": "2022-05-28T14:06:29.204183Z",
     "iopub.status.idle": "2022-05-28T14:06:55.935327Z",
     "shell.execute_reply": "2022-05-28T14:06:55.935691Z"
    },
    "tags": []
   },
   "outputs": [
    {
     "name": "stdout",
     "output_type": "stream",
     "text": [
      "[20,000] MAE: 4.378419\n",
      "[40,000] MAE: 4.328999\n",
      "[60,000] MAE: 4.277895\n",
      "[80,000] MAE: 4.287503\n",
      "[100,000] MAE: 4.236114\n",
      "[120,000] MAE: 4.238951\n",
      "[140,000] MAE: 4.278382\n",
      "[160,000] MAE: 4.24341\n",
      "[180,000] MAE: 4.230743\n"
     ]
    },
    {
     "data": {
      "text/plain": [
       "MAE: 4.231731"
      ]
     },
     "execution_count": 19,
     "metadata": {},
     "output_type": "execute_result"
    }
   ],
   "source": [
    "import datetime as dt\n",
    "\n",
    "evaluate.progressive_val_score(\n",
    "    dataset=dataset,\n",
    "    model=model.clone(),\n",
    "    metric=metrics.MAE(),\n",
    "    moment='moment',\n",
    "    delay=dt.timedelta(minutes=30),\n",
    "    print_every=20_000\n",
    ")"
   ]
  },
  {
   "cell_type": "markdown",
   "metadata": {},
   "source": [
    "The performance is a bit worse, which is to be expected. Indeed, the task is more difficult: the model is only shown the ground truth 30 minutes after making a prediction.\n",
    "\n",
    "The takeaway of this notebook is that the `progressive_val_score` method can be used to simulate a production scenario, and is thus extremely valuable."
   ]
  }
 ],
 "metadata": {
  "interpreter": {
   "hash": "e6e87bad9c8c768904c061eafcb4f6739260ff8bb57f302c215ab258ded773dc"
  },
  "kernelspec": {
   "display_name": "Python 3.9.12 ('river')",
   "language": "python",
   "name": "python3"
  },
  "language_info": {
   "codemirror_mode": {
    "name": "ipython",
    "version": 3
   },
   "file_extension": ".py",
   "mimetype": "text/x-python",
   "name": "python",
   "nbconvert_exporter": "python",
   "pygments_lexer": "ipython3",
   "version": "3.9.12"
  }
 },
 "nbformat": 4,
 "nbformat_minor": 4
}
