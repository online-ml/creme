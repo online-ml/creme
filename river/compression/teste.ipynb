{
 "cells": [
  {
   "cell_type": "code",
   "execution_count": 5,
   "metadata": {},
   "outputs": [
    {
     "name": "stdout",
     "output_type": "stream",
     "text": [
      "The autoreload extension is already loaded. To reload it, use:\n",
      "  %reload_ext autoreload\n",
      "estou na classe !!  hello world\n"
     ]
    }
   ],
   "source": [
    "%load_ext autoreload\n",
    "%autoreload 2\n",
    "\n",
    "from river import compression\n",
    "model = compression.TextCompressionClassifier()\n",
    "\n",
    "model.test(\"hello world\")"
   ]
  }
 ],
 "metadata": {
  "interpreter": {
   "hash": "1c919c39556be274582a1f16bb0a84a92481bcfbe155bed1bcf4102511c6f533"
  },
  "kernelspec": {
   "display_name": "Python 3.8.6rc1 ('.venv': venv)",
   "language": "python",
   "name": "python3"
  },
  "language_info": {
   "codemirror_mode": {
    "name": "ipython",
    "version": 3
   },
   "file_extension": ".py",
   "mimetype": "text/x-python",
   "name": "python",
   "nbconvert_exporter": "python",
   "pygments_lexer": "ipython3",
   "version": "3.8.6rc1"
  },
  "orig_nbformat": 4
 },
 "nbformat": 4,
 "nbformat_minor": 2
}
