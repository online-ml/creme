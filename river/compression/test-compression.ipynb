{
 "cells": [
  {
   "cell_type": "code",
   "execution_count": null,
   "metadata": {},
   "outputs": [],
   "source": [
    "%load_ext autoreload\n",
    "%autoreload 2\n",
    "\n",
    "from sklearn.datasets import fetch_20newsgroups\n",
    "from river import compression\n",
    "from sklearn.metrics import classification_report\n",
    "\n",
    "# prepare train dataset\n",
    "categories = [\n",
    "    'alt.atheism',\n",
    "    'talk.religion.misc',\n",
    "    'comp.graphics',\n",
    "    'sci.space'\n",
    "]\n",
    "\n",
    "train = fetch_20newsgroups(subset='train', categories=categories)\n",
    "test = fetch_20newsgroups(subset='test', categories=categories)\n",
    "\n",
    "model = compression.TextCompressionClassifier()\n",
    "\n",
    "for i, text in enumerate(train['data']):\n",
    "    x = text    \n",
    "    y = train['target_names'][train['target'][i]]\n",
    "    model = model.learn_one(x, y)\n",
    "\n",
    "predictions = []\n",
    "\n",
    "for text in test['data']:\n",
    "    y_pred = model.predict_one(text)\n",
    "    predictions.append(y_pred)\n",
    "\n",
    "test_labels = [\n",
    "    test['target_names'][label]\n",
    "    for label in test['target']\n",
    "]\n",
    "\n",
    "print(classification_report(\n",
    "    test_labels,\n",
    "    predictions,\n",
    "    digits=3\n",
    "))"
   ]
  }
 ],
 "metadata": {
  "language_info": {
   "name": "python"
  },
  "orig_nbformat": 4
 },
 "nbformat": 4,
 "nbformat_minor": 2
}
