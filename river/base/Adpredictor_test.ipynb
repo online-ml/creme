{
 "cells": [
  {
   "cell_type": "code",
   "id": "initial_id",
   "metadata": {
    "collapsed": true,
    "ExecuteTime": {
     "end_time": "2024-11-09T15:04:34.707796Z",
     "start_time": "2024-11-09T15:04:34.663651Z"
    }
   },
   "source": [
    "%load_ext autoreload\n",
    "%autoreload 2\n"
   ],
   "outputs": [
    {
     "name": "stdout",
     "output_type": "stream",
     "text": [
      "The autoreload extension is already loaded. To reload it, use:\n",
      "  %reload_ext autoreload\n"
     ]
    }
   ],
   "execution_count": 9
  },
  {
   "metadata": {
    "ExecuteTime": {
     "end_time": "2024-11-09T15:04:37.139365Z",
     "start_time": "2024-11-09T15:04:37.097733Z"
    }
   },
   "cell_type": "code",
   "source": [
    "import os\n",
    "print(os.getcwd())"
   ],
   "id": "65e3111b76277fc5",
   "outputs": [
    {
     "name": "stdout",
     "output_type": "stream",
     "text": [
      "C:\\River\\riverIDLIB\\river\\base\n"
     ]
    }
   ],
   "execution_count": 10
  },
  {
   "metadata": {
    "ExecuteTime": {
     "end_time": "2024-11-09T15:04:38.751355Z",
     "start_time": "2024-11-09T15:04:38.708257Z"
    }
   },
   "cell_type": "code",
   "source": [
    "from river import datasets\n",
    "from river import metrics\n",
    "from river import preprocessing\n",
    "from river import compose\n"
   ],
   "id": "3ffeadeef731f48e",
   "outputs": [],
   "execution_count": 11
  },
  {
   "metadata": {
    "ExecuteTime": {
     "end_time": "2024-11-09T15:04:45.986384Z",
     "start_time": "2024-11-09T15:04:45.943819Z"
    }
   },
   "cell_type": "code",
   "source": [
    "import importlib.util\n",
    "\n",
    "spec = importlib.util.spec_from_file_location(\"AdPredictor\", \"./AdPredictor.py\")\n",
    "AdPredictor_module = importlib.util.module_from_spec(spec)\n",
    "spec.loader.exec_module(AdPredictor_module)\n",
    "\n",
    "AdPredictor = AdPredictor_module.AdPredictor"
   ],
   "id": "e323aa048e864b33",
   "outputs": [],
   "execution_count": 12
  },
  {
   "metadata": {
    "ExecuteTime": {
     "end_time": "2024-11-09T15:04:49.810249Z",
     "start_time": "2024-11-09T15:04:49.768766Z"
    }
   },
   "cell_type": "code",
   "source": "phishing_data = datasets.Phishing()",
   "id": "c862e33d656cb230",
   "outputs": [],
   "execution_count": 13
  },
  {
   "metadata": {
    "ExecuteTime": {
     "end_time": "2024-11-09T15:04:54.402788Z",
     "start_time": "2024-11-09T15:04:54.358522Z"
    }
   },
   "cell_type": "code",
   "source": [
    "model = AdPredictor(beta=0.1, prior_probability=0.5, epsilon=0.1, num_features=9)\n",
    "metric = metrics.Accuracy()"
   ],
   "id": "293c681cca67e1f4",
   "outputs": [],
   "execution_count": 14
  },
  {
   "metadata": {
    "ExecuteTime": {
     "end_time": "2024-11-09T15:04:59.609037Z",
     "start_time": "2024-11-09T15:04:59.569533Z"
    }
   },
   "cell_type": "code",
   "source": [
    "model_pipeline = compose.Pipeline(\n",
    "    ('scale', preprocessing.StandardScaler()),\n",
    "    ('predictor',model)\n",
    ")"
   ],
   "id": "c8fb1bb8ed902d80",
   "outputs": [],
   "execution_count": 15
  },
  {
   "metadata": {
    "ExecuteTime": {
     "end_time": "2024-11-09T15:03:47.107046Z",
     "start_time": "2024-11-09T15:03:47.054657Z"
    }
   },
   "cell_type": "code",
   "source": [
    "for x, y in phishing_data:\n",
    "    y_pred = model_pipeline.predict_one(x)\n",
    "    metric = metric.update(y, y_pred)\n",
    "    model_pipeline = model_pipeline.learn_one(x, y)\n",
    "    print(f'Prediction: {y_pred}, Metric: {metric}')\n",
    "    break "
   ],
   "id": "1dea7c542ab4ad84",
   "outputs": [
    {
     "name": "stdout",
     "output_type": "stream",
     "text": [
      "Prediction: 0.5, Metric: None\n"
     ]
    }
   ],
   "execution_count": 8
  }
 ],
 "metadata": {
  "kernelspec": {
   "display_name": "Python 3",
   "language": "python",
   "name": "python3"
  },
  "language_info": {
   "codemirror_mode": {
    "name": "ipython",
    "version": 2
   },
   "file_extension": ".py",
   "mimetype": "text/x-python",
   "name": "python",
   "nbconvert_exporter": "python",
   "pygments_lexer": "ipython2",
   "version": "2.7.6"
  }
 },
 "nbformat": 4,
 "nbformat_minor": 5
}
